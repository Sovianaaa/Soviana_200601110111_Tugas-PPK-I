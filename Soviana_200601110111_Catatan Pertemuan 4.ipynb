{
 "cells": [
  {
   "cell_type": "markdown",
   "id": "e2c93dd2-ec32-4af0-909c-8f7afe12837c",
   "metadata": {},
   "source": [
    "Soviana_200601110111_Catatan Pertemuan 4"
   ]
  },
  {
   "cell_type": "markdown",
   "id": "fbead17c-6356-449e-a03f-b486b19236b5",
   "metadata": {},
   "source": [
    "Fungsi adalah bagian atau blok program yang berisi satu tugas spesifik.\n",
    "Ketika dipanggil, fungsi ada yang menghasilkan atau mengembalikan nilai dan ada juga yang tidak. Nilai yang dihasilkan oleh fungsi disebut\n",
    "dengan istilah nilai balik (return value). Dalam beberapa bahasa pemrograman lain, fungsi dengan nilai balik disebut fungsi dan fungsi tanpa\n",
    "nilai balik disebut prosedur. fungsi hanya perlu didefinisikan satu kali,\n",
    "tapi dapat digunakan atau dipanggil berkali-kali. Dalam Phyton, fungsi\n",
    "didefinisikan menggunakan perintah def melalui bentuk umum berikut :\n",
    "\n",
    "def NamaFungsi(parameter1,parameter2,...):\n",
    "\n",
    "#badan fungsi\n",
    "\n",
    "Daftar parameter dari suatu fungsi bersifat opsional, tapi sebagian besar fungsi pada umumnya memiliki satu parameter atau lebih. Terdapat empat jenis fungsi yang dapat dibuat di dalam Phyton, yaitu : fungsi global,fungsi lokal, dan fungsi lambda."
   ]
  },
  {
   "cell_type": "markdown",
   "id": "0cabf8c5-8de0-4e7a-9626-8e0025d6bf9c",
   "metadata": {},
   "source": [
    "Algorithm 4.1"
   ]
  },
  {
   "cell_type": "code",
   "execution_count": 1,
   "id": "f3ed0638-6309-4d10-890f-61f11fae9620",
   "metadata": {},
   "outputs": [
    {
     "data": {
      "text/plain": [
       "50"
      ]
     },
     "execution_count": 1,
     "metadata": {},
     "output_type": "execute_result"
    }
   ],
   "source": [
    "def kali(a,b):\n",
    "    c=a*b\n",
    "    return c #mengembalikan nilai ke baris pemanggil\n",
    "def tulis (s):\n",
    "    print(s)\n",
    "z=kali(10,5)\n",
    "z"
   ]
  },
  {
   "cell_type": "code",
   "execution_count": 2,
   "id": "003b2b9a-a7ea-419e-8f56-0746bf2859df",
   "metadata": {},
   "outputs": [
    {
     "name": "stdout",
     "output_type": "stream",
     "text": [
      "Pemrograman Komputer I dengan Python\n"
     ]
    }
   ],
   "source": [
    "tulis('Pemrograman Komputer I dengan Python')"
   ]
  },
  {
   "cell_type": "code",
   "execution_count": 3,
   "id": "56f7110e-0754-4411-a6d2-8faf503d069c",
   "metadata": {},
   "outputs": [
    {
     "name": "stdout",
     "output_type": "stream",
     "text": [
      "50\n"
     ]
    }
   ],
   "source": [
    "tulis (z)"
   ]
  },
  {
   "cell_type": "markdown",
   "id": "54008a4e-8691-4dcb-aabc-78ea776785be",
   "metadata": {},
   "source": [
    "Control Flow\n",
    "1. Ekspresi Boolean\n",
    "\n",
    "Sebuah ekspresi Boolean adalah ekspresi yang bernilai true atau false. Ekspresi ini digunakan untuk membandingkan dua nilai atau variabel (operand).\n",
    "\n",
    "2. Logical Operators\n",
    "\n",
    "Operator logika merupakan jenis operator yang akan membandingkan logika hasil\n",
    "dari operator relasi. Terdapat 3 macam operator yang termasuk dalam operator logika\n",
    "yaitu: and, or, dan not.\n",
    "\n",
    "3. Conditional Execution\n",
    "\n",
    "Pada saat membuat sebuah program, kadangkala kita membutuhkan pemilihan per\u0002nyataan mana yang akan dijalankan oleh komputer. Kemampuan pemilihan perintah\n",
    "inilah yang disebut conditional statement.\n",
    "\n",
    "4. Conditional If\n",
    "\n",
    "Conditional if digunakan untuk memilih apakah sebuah pernyataan akan dijalankan\n",
    "atau tidak sesuai kondisi yang diberikan.\n",
    "\n",
    "5. Conditional if-else\n",
    "\n",
    "Conditional if-else digunakan untuk memilih pernyataan mana yang akan dijalankan\n",
    "dari 2 pernyataan sesuai kondisi yang diberikan.\n",
    "\n",
    "6. Conditional if-elif-else\n",
    "\n",
    "Conditional if-elif-else digunakan untuk memilih pernyataan mana yang akan dijalankan\n",
    "dengan beberapa kondisi pengecekan."
   ]
  },
  {
   "cell_type": "markdown",
   "id": "207dbe21-abb5-42cc-94a4-2fb2f0da2420",
   "metadata": {},
   "source": [
    "Langkah Praktikum\n",
    "\n",
    "A. Percobaan Conditional if\n",
    "1. Buka python editor dan buat script baru dengan nama \"Percobaan1.py\".\n",
    "2. Tuliskan kode untuk mengambil masukan dari user.\n",
    "3. Tuliskan kode conditional if untuk melakukan pengecekan nilai. Jangan lupa konversikan variabel nilai menjadi int.\n",
    "4. Jalankan program tersebut dan perhatikan hasilnya.\n",
    "\n",
    "B. Percobaan Conditional if-else\n",
    "1. Buka script Percobaan1.py yang sudah Anda buat.\n",
    "2. Tambahkan kode conditional if-else untuk melakukan pengecekan nilai apakah lulus atau tidak.\n",
    "3. Jalankan program tersebut dan perhatikan hasilnya.\n",
    "\n",
    "C. Percobaan Conditional if-elif-else\n",
    "1. Buka script Percobaan1.py yang sudah Anda buat pada Percobaan 1 dan 2.\n",
    "2. Tambahkan kode conditional if-elif-else untuk melakukan pengecekan nilai apakah valid dan lulus atau tidak.\n",
    "3. Jalankan program tersebut dan perhatikan hasilnya.\n",
    "\n",
    "\n"
   ]
  },
  {
   "cell_type": "code",
   "execution_count": 4,
   "id": "0e5cbb74-f1e0-4836-b151-784ce240c719",
   "metadata": {},
   "outputs": [
    {
     "name": "stdin",
     "output_type": "stream",
     "text": [
      "Masukkan nilai Anda 80\n"
     ]
    }
   ],
   "source": [
    "nilai = input(\"Masukkan nilai Anda\")"
   ]
  },
  {
   "cell_type": "code",
   "execution_count": 5,
   "id": "d6a0b5c8-72c1-4ac2-bb67-79f1aec28940",
   "metadata": {},
   "outputs": [
    {
     "name": "stdout",
     "output_type": "stream",
     "text": [
      "Anda lulus ujian! SELAMAT!\n"
     ]
    }
   ],
   "source": [
    "if int(nilai) >= 70:\n",
    "    print(\"Anda lulus ujian! SELAMAT!\")"
   ]
  },
  {
   "cell_type": "code",
   "execution_count": 6,
   "id": "b28d1afd-fe86-4956-af68-4f93a74a459f",
   "metadata": {},
   "outputs": [
    {
     "name": "stdout",
     "output_type": "stream",
     "text": [
      "Anda lulus ujian! SELAMAT!\n"
     ]
    }
   ],
   "source": [
    "if int(nilai) >= 70:\n",
    "        print(\"Anda lulus ujian! SELAMAT!\")\n",
    "else:\n",
    "        print(\"Anda belum lulus ujian!\")"
   ]
  },
  {
   "cell_type": "code",
   "execution_count": 7,
   "id": "1b337d70-ea60-404d-9c10-2c58afb4d53b",
   "metadata": {},
   "outputs": [
    {
     "name": "stdout",
     "output_type": "stream",
     "text": [
      "Anda lulus ujian! SELAMAT!\n"
     ]
    }
   ],
   "source": [
    "if int(nilai) < 0 or int(nilai) > 100:\n",
    "        print(\"Nilai Anda TIDAK valid\")\n",
    "elif int(nilai) >= 70:\n",
    "        print(\"Anda lulus ujian! SELAMAT!\")\n",
    "else:\n",
    "      print(\"Anda belum lulus ujian!\")\n",
    "    \n"
   ]
  },
  {
   "cell_type": "code",
   "execution_count": null,
   "id": "77e5152c-b850-414e-8ceb-9af1db45e99e",
   "metadata": {},
   "outputs": [],
   "source": []
  }
 ],
 "metadata": {
  "kernelspec": {
   "display_name": "Python 3 (ipykernel)",
   "language": "python",
   "name": "python3"
  },
  "language_info": {
   "codemirror_mode": {
    "name": "ipython",
    "version": 3
   },
   "file_extension": ".py",
   "mimetype": "text/x-python",
   "name": "python",
   "nbconvert_exporter": "python",
   "pygments_lexer": "ipython3",
   "version": "3.10.2"
  }
 },
 "nbformat": 4,
 "nbformat_minor": 5
}
