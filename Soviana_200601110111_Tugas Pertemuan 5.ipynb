{
 "cells": [
  {
   "cell_type": "markdown",
   "id": "663961ae-d3f8-4125-a422-599219cf8a31",
   "metadata": {},
   "source": [
    "Soviana_200601110111\n"
   ]
  },
  {
   "cell_type": "markdown",
   "id": "0789ae94-e7e8-49b7-a713-9bd049d5d9a0",
   "metadata": {},
   "source": [
    "1. Buatlah program yang meminta masukan user sebuah bilangan bulat N dimana (N > 0). \n",
    "\n",
    "Program kemudian menampilkan penjumlahan N bilangan genap positif\n",
    "pertama (bilangan genap ≥ 0). \n",
    "\n",
    "Contoh:\n",
    "\n",
    "• Jika user memasukkan N = 3, maka outputnya: 0 + 2 + 4 = 6\n",
    "\n",
    "• Jika user memasukkan N = 5, maka outputnya: 0 + 2 + 4 + 6 + 8 = 20"
   ]
  },
  {
   "cell_type": "code",
   "execution_count": 1,
   "id": "d30f080e-2bd6-44e3-a6a7-eae8c49d7e41",
   "metadata": {},
   "outputs": [
    {
     "name": "stdin",
     "output_type": "stream",
     "text": [
      "Angka\n",
      "> 3\n"
     ]
    }
   ],
   "source": [
    "user_input = int(input(\"Angka\\n>\"))"
   ]
  },
  {
   "cell_type": "code",
   "execution_count": 2,
   "id": "b6cced20-9a4e-49dd-ba7f-9cd1f4d7ffd2",
   "metadata": {},
   "outputs": [],
   "source": [
    "angka_list = [0]\n",
    "angka = 0\n",
    "for i in range(user_input):\n",
    "    if i % 2 ==0:\n",
    "        angka += 2\n",
    "        angka_list.append(angka)\n",
    "    else:\n",
    "        continue"
   ]
  },
  {
   "cell_type": "code",
   "execution_count": 3,
   "id": "9c109b64-3bf3-4c49-971b-9cdeb3704f7d",
   "metadata": {},
   "outputs": [
    {
     "name": "stdout",
     "output_type": "stream",
     "text": [
      "[0, 2]\n"
     ]
    }
   ],
   "source": [
    "print(angka_list[0:len(angka_list)-1])"
   ]
  },
  {
   "cell_type": "markdown",
   "id": "5b147ca4-759b-4b9b-ac0d-b006768c9b43",
   "metadata": {},
   "source": [
    "2. Buatlah sebuah program yang meminta masukan user sebuah bilangan bulat N\n",
    "dimana (N > 0). Kemudian, program menampilkan penjumlahan N bilangan\n",
    "kuadrat pertama. Bilangan kuadrat adalah = 1, 4, 9, 16, 25, 36, ...., N^2\n",
    "\n",
    "Contoh:\n",
    "\n",
    "• Jika user memasukkan N = 2, maka outputnya: 1 + 4 = 5\n",
    "\n",
    "• Jika user memasukkan N = 3, maka outputnya: 1 + 4 + 9 = 14"
   ]
  },
  {
   "cell_type": "code",
   "execution_count": 1,
   "id": "940aba48-a3e8-4a83-86ef-5b933825fb45",
   "metadata": {},
   "outputs": [
    {
     "name": "stdin",
     "output_type": "stream",
     "text": [
      "Masukkan banyak N :  5\n"
     ]
    },
    {
     "name": "stdout",
     "output_type": "stream",
     "text": [
      "Daftar Bilangan Kuadrat\n",
      "===========================================================================\n",
      "1 4 9 16 25 \n",
      "===========================================================================\n",
      "Hasil Perhitungan\n",
      "===========================================================================\n",
      "Bilangan di atas ada 5 bilangan\n",
      "Total dari keseluruhan bilangan kuadrat adalah 55\n"
     ]
    }
   ],
   "source": [
    "n = int(input(\"Masukkan banyak N : \"))\n",
    "count = 0\n",
    "summ = 0\n",
    "print(\"Daftar Bilangan Kuadrat\")\n",
    "print(\"=\" * 75)\n",
    "for i in range(n+1) :\n",
    "    if i != 0:\n",
    "        print (i*i, end= ' ')\n",
    "        count = count + 1\n",
    "        summ = summ + i*i\n",
    "                \n",
    "print()\n",
    "print(\"=\" *75)\n",
    "print(\"Hasil Perhitungan\")\n",
    "print(\"=\" *75)\n",
    "print('Bilangan di atas ada %d bilangan' %count)\n",
    "print ('Total dari keseluruhan bilangan kuadrat adalah %d' %summ)"
   ]
  },
  {
   "cell_type": "markdown",
   "id": "0da3bbd2-f2dd-43ba-9092-e94a01577612",
   "metadata": {},
   "source": [
    "3. Buatlah sebuah program yang meminta masukan user sebuah bilangan bulat N\n",
    "dimana (N > 0). Program kemudian memeriksa setiap digit yang ada di angka\n",
    "tersebut, dan menampilkan berapa jumlah digit yang ganjil dari bilangan N tersebut.\n",
    "\n",
    "• Jika user memasukkan N = 2345, jumlah digit yang ganjil = 2\n",
    "\n",
    "• Jika user memasukkan N = 993312, jumlah digit yang ganjil = 5"
   ]
  },
  {
   "cell_type": "code",
   "execution_count": 1,
   "id": "dd4c5bb2-49c3-4caa-8147-97002798de78",
   "metadata": {},
   "outputs": [
    {
     "name": "stdin",
     "output_type": "stream",
     "text": [
      "Masukkan semua bilangan N:   3\n",
      "Masukkan bilangan :  4\n",
      "Masukkan bilangan :  7\n",
      "Masukkan bilangan :  2\n"
     ]
    },
    {
     "name": "stdout",
     "output_type": "stream",
     "text": [
      "Daftar bilangan ganjil\n",
      "===========================================================================\n",
      "1 "
     ]
    }
   ],
   "source": [
    "n=int(input(\"Masukkan semua bilangan N:  \"))\n",
    "num_list = []\n",
    "for x in range (n) :\n",
    "    a = int(input(\"Masukkan bilangan : \" ))\n",
    "    num_list.append(a)\n",
    "count = 0\n",
    "print(\"Daftar bilangan ganjil\")\n",
    "print(\"=\" * 75)\n",
    "for i in range(a+1) :\n",
    "    if i % 2 == 1:\n",
    "        print (i, end= ' ')\n",
    "        count = count + 1"
   ]
  },
  {
   "cell_type": "markdown",
   "id": "7d4b0c6f-e2fa-45a0-8038-6bc7334be28d",
   "metadata": {},
   "source": [
    "1. Cari bagaimana cara menampilkan Judul (Title) dari grafik "
   ]
  },
  {
   "cell_type": "code",
   "execution_count": 2,
   "id": "6374d6f5-d024-484e-923b-5bc2d0c96581",
   "metadata": {},
   "outputs": [
    {
     "data": {
      "image/png": "[encoded data removed]",
      "text/plain": [
       "<Figure size 432x288 with 1 Axes>"
      ]
     },
     "metadata": {
      "needs_background": "light"
     },
     "output_type": "display_data"
    }
   ],
   "source": [
    "import matplotlib.pyplot as plt\n",
    "\n",
    "x=[5,10,15,20]\n",
    "y=[2,4,7,10]\n",
    "\n",
    "plt.plot (x,y)\n",
    "plt.title (\"Diagram Kartesius\")\n",
    "plt.grid(True)"
   ]
  },
  {
   "cell_type": "markdown",
   "id": "4f696b3f-3525-403c-940e-3ed8ef5129dd",
   "metadata": {},
   "source": [
    "2. Cari bagaimana cara memberikan label pada sumbu x dan sumbu y"
   ]
  },
  {
   "cell_type": "code",
   "execution_count": 3,
   "id": "3510e51a-56ea-4c17-a128-160e78fe9209",
   "metadata": {},
   "outputs": [
    {
     "data": {
      "image/png": "[encoded data removed]",
      "text/plain": [
       "<Figure size 432x288 with 1 Axes>"
      ]
     },
     "metadata": {
      "needs_background": "light"
     },
     "output_type": "display_data"
    }
   ],
   "source": [
    "import matplotlib.pyplot as plt\n",
    "\n",
    "y = [7, 14, 21, 28, 35]\n",
    "x = [4, 8, 12, 16, 20]\n",
    "plt.plot(x, y)\n",
    "\n",
    "plt.xlabel('Nilai X')\n",
    "plt.ylabel('Nilai Y')\n",
    "\n",
    "plt.title('Diagram Kartesius')\n",
    "plt.grid(True)\n",
    "\n",
    "plt.show()"
   ]
  },
  {
   "cell_type": "markdown",
   "id": "9f92e7a5-7ba5-4850-93a6-550d3761d928",
   "metadata": {},
   "source": [
    "3. Cari bagaimana cara menambahkan teks dalam grafik"
   ]
  },
  {
   "cell_type": "code",
   "execution_count": 4,
   "id": "e69a67dc-15dc-4623-a82c-fff9cfa70543",
   "metadata": {},
   "outputs": [
    {
     "data": {
      "image/png": "[encoded data removed]",
      "text/plain": [
       "<Figure size 432x288 with 1 Axes>"
      ]
     },
     "metadata": {
      "needs_background": "light"
     },
     "output_type": "display_data"
    }
   ],
   "source": [
    "import matplotlib.pyplot as plt\n",
    "\n",
    "y = [7, 14, 21, 28, 35]\n",
    "x = [4, 8, 12, 16, 20]\n",
    "plt.plot(x, y)\n",
    "\n",
    "plt.xlabel('Nilai X')\n",
    "plt.ylabel('Nilai Y')\n",
    "plt.scatter(x, y, color=\"darkblue\", label=\"item\")\n",
    "\n",
    "plt.title('Diagram Kartesius')\n",
    "plt.grid(True)\n",
    "plt.legend()\n",
    "\n",
    "plt.show()"
   ]
  },
  {
   "cell_type": "code",
   "execution_count": null,
   "id": "a0c78ea5-64b4-4e50-99d0-4fa2c5cd7348",
   "metadata": {},
   "outputs": [],
   "source": []
  }
 ],
 "metadata": {
  "kernelspec": {
   "display_name": "Python 3 (ipykernel)",
   "language": "python",
   "name": "python3"
  },
  "language_info": {
   "codemirror_mode": {
    "name": "ipython",
    "version": 3
   },
   "file_extension": ".py",
   "mimetype": "text/x-python",
   "name": "python",
   "nbconvert_exporter": "python",
   "pygments_lexer": "ipython3",
   "version": "3.10.2"
  }
 },
 "nbformat": 4,
 "nbformat_minor": 5
}
