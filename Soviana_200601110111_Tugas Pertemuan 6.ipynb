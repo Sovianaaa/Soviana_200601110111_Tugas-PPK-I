{
 "cells": [
  {
   "cell_type": "markdown",
   "id": "e630f768-f5d5-49a6-95a3-b9136bd3f578",
   "metadata": {},
   "source": [
    "Soviana_200601110111_Catatan Pertemuan 6"
   ]
  },
  {
   "cell_type": "markdown",
   "id": "27cef23a-3bc9-48e5-bb98-3745a05e6717",
   "metadata": {},
   "source": [
    "5.1 Pendahuluan\n",
    "\n",
    "Topik utama dari NumPy adalah array multidimensi yang diindeks oleh tuple atau pasangan bilangan bulat positif. Dalam NumPy dimensi disebut sebagai axis, dan banyaknya axis disebut rank. Sebagai contoh, koordinat sebuah titik diruang 3D dinyatakan sebagai [1,2,1] yang merupakan sebuah array dengan rank 1 karena terdiri dari satu axis.\n",
    "Sedangkan panjang axis tersebut adalah 3. Pada contoh berikut, array-nya mempunyai rank 2. Axis pertama panjangnya 2, dan axis kedua panjangnya 3."
   ]
  },
  {
   "cell_type": "code",
   "execution_count": 1,
   "id": "3ae49560-9dcf-4d52-bf26-c8b023a1318e",
   "metadata": {},
   "outputs": [
    {
     "data": {
      "text/plain": [
       "[[1.0, 0.0, 0.0], [0.0, 1.0, 2.0]]"
      ]
     },
     "execution_count": 1,
     "metadata": {},
     "output_type": "execute_result"
    }
   ],
   "source": [
    "[[ 1., 0., 0.],\n",
    " [0., 1., 2.]]"
   ]
  },
  {
   "cell_type": "markdown",
   "id": "b0f4c74d-e8fe-4850-8a48-f5c57c4debe8",
   "metadata": {},
   "source": [
    "array NumPy disebut sebagai ndarray, atau dikenal juga dengan sebutan array. \n",
    "Catat bahwa numpy.array tidak sama dengan array Standard Python array.array, yang hanya bisa digunakan untuk array satu dimensi dan dengan fitur yang lebih sedikit. Atribut yang paling penting dari ndarray\n",
    "adalah:\n",
    "    \n",
    "ndarray.ndim banyaknya axis atau dimensi dari array. Di Python, banyaknya dimensi disebut sebagai rank.\n",
    "\n",
    "ndarray.shape dimensi dari array. Ini adalah pasangan bilangan bulat yang menunjukkan ukuran array di setiap dimensi. Untuk matriks\n",
    "dengan n baris dan m kolom, bentuknya adalah (n, m). Panjang dari pasangan shape adalah rank, atau jumlah dimensi, ndim.\n",
    "\n",
    "ndarray.size jumlah elemen dari array. Ini sama dengan perkalian elemen dari shape.\n",
    "\n",
    "ndarray.dtype sebuah objek yang menggambarkan jenis elemen dalam array. Seseorang dapat membuat atau menentukan jenis dtype\n",
    "menggunakan jenis Python standar. Selain itu NumPy menyediakan jenisnya sendiri. numpy.int32, numpy.int16, dan numpy.float64\n",
    "adalah beberapa contohnya.\n",
    "\n",
    "ndarray.itemsize ukuran dalam byte dari setiap elemen array. Sebagai contoh, sebuah array dari elemen tipe float64 memiliki itemsize 8 (= 64/8), sedangkan satu dari tipe complex32 memiliki itemsize 4 (= 32/8). Ini sama dengan ndarray.dtype.itemsize.\n",
    "\n",
    "ndarray.data buffer yang mengandung elemen sebenarnya dari array. Biasanya, kita tidak perlu menggunakan atribut ini karena kita akan mengakses elemen dalam array menggunakan fasilitas pengindeksan."
   ]
  },
  {
   "cell_type": "markdown",
   "id": "ea0c7551-e7cc-46e6-bc54-ce22b42f14f6",
   "metadata": {},
   "source": [
    "Contoh:"
   ]
  },
  {
   "cell_type": "code",
   "execution_count": 2,
   "id": "4d33b76b-1e29-4444-9693-ddee825f4be5",
   "metadata": {},
   "outputs": [
    {
     "data": {
      "text/plain": [
       "array([[ 0,  1,  2,  3,  4],\n",
       "       [ 5,  6,  7,  8,  9],\n",
       "       [10, 11, 12, 13, 14]])"
      ]
     },
     "execution_count": 2,
     "metadata": {},
     "output_type": "execute_result"
    }
   ],
   "source": [
    "import numpy as np\n",
    "a = np.arange (15).reshape (3,5)\n",
    "a"
   ]
  },
  {
   "cell_type": "code",
   "execution_count": 3,
   "id": "02cecae0-33e7-4e57-a5f8-071d61a0e464",
   "metadata": {},
   "outputs": [
    {
     "data": {
      "text/plain": [
       "(3, 5)"
      ]
     },
     "execution_count": 3,
     "metadata": {},
     "output_type": "execute_result"
    }
   ],
   "source": [
    "a.shape"
   ]
  },
  {
   "cell_type": "code",
   "execution_count": 4,
   "id": "ea05cffa-0eba-42de-9110-ffa03354df78",
   "metadata": {},
   "outputs": [
    {
     "data": {
      "text/plain": [
       "2"
      ]
     },
     "execution_count": 4,
     "metadata": {},
     "output_type": "execute_result"
    }
   ],
   "source": [
    "a.ndim"
   ]
  },
  {
   "cell_type": "code",
   "execution_count": 5,
   "id": "c79f0e17-42c5-4298-a891-6b36d03726e8",
   "metadata": {},
   "outputs": [
    {
     "data": {
      "text/plain": [
       "'int32'"
      ]
     },
     "execution_count": 5,
     "metadata": {},
     "output_type": "execute_result"
    }
   ],
   "source": [
    "a.dtype.name"
   ]
  },
  {
   "cell_type": "code",
   "execution_count": 6,
   "id": "e336fc2e-c90b-4db3-8531-04733fc24a9c",
   "metadata": {},
   "outputs": [
    {
     "data": {
      "text/plain": [
       "4"
      ]
     },
     "execution_count": 6,
     "metadata": {},
     "output_type": "execute_result"
    }
   ],
   "source": [
    "a.itemsize"
   ]
  },
  {
   "cell_type": "code",
   "execution_count": 7,
   "id": "fc7febcb-0acd-43c3-a1f6-c2e4e121f1cb",
   "metadata": {},
   "outputs": [
    {
     "data": {
      "text/plain": [
       "15"
      ]
     },
     "execution_count": 7,
     "metadata": {},
     "output_type": "execute_result"
    }
   ],
   "source": [
    "a.size"
   ]
  },
  {
   "cell_type": "code",
   "execution_count": 8,
   "id": "6e16f962-1d74-436b-a312-300e55de5854",
   "metadata": {},
   "outputs": [
    {
     "data": {
      "text/plain": [
       "numpy.ndarray"
      ]
     },
     "execution_count": 8,
     "metadata": {},
     "output_type": "execute_result"
    }
   ],
   "source": [
    "type(a)\n"
   ]
  },
  {
   "cell_type": "code",
   "execution_count": 9,
   "id": "aaa2c825-0e06-4b6a-a1a3-1d4365b830b6",
   "metadata": {},
   "outputs": [
    {
     "data": {
      "text/plain": [
       "array([6, 7, 8])"
      ]
     },
     "execution_count": 9,
     "metadata": {},
     "output_type": "execute_result"
    }
   ],
   "source": [
    "b = np.array([6 , 7 , 8])\n",
    "b"
   ]
  },
  {
   "cell_type": "code",
   "execution_count": 10,
   "id": "3dd43b64-3bfe-4bf6-af1a-ca61d819e2e5",
   "metadata": {},
   "outputs": [
    {
     "data": {
      "text/plain": [
       "numpy.ndarray"
      ]
     },
     "execution_count": 10,
     "metadata": {},
     "output_type": "execute_result"
    }
   ],
   "source": [
    "type(b)"
   ]
  },
  {
   "cell_type": "markdown",
   "id": "f4a5281c-d650-41cb-bb3c-ff45e29b9082",
   "metadata": {},
   "source": [
    "5.2 Membuat Array\n",
    "\n",
    "Ada beberapa cara untuk membuat array. Misalnya, Anda dapat membuat array dari list Python biasa atau pasangan menggunakan fungsi array. Tipe array yang dihasilkan disimpulkan dari tipe elemen dalam array.\n"
   ]
  },
  {
   "cell_type": "code",
   "execution_count": 11,
   "id": "03768f86-960f-4135-bf7b-7f5e15fb5247",
   "metadata": {},
   "outputs": [
    {
     "data": {
      "text/plain": [
       "array([2, 3, 4])"
      ]
     },
     "execution_count": 11,
     "metadata": {},
     "output_type": "execute_result"
    }
   ],
   "source": [
    "import numpy as np\n",
    "a = np.array([2,3,4])\n",
    "a"
   ]
  },
  {
   "cell_type": "code",
   "execution_count": 12,
   "id": "41133b2e-957e-42d7-967c-f6b456e24322",
   "metadata": {},
   "outputs": [
    {
     "data": {
      "text/plain": [
       "dtype('int32')"
      ]
     },
     "execution_count": 12,
     "metadata": {},
     "output_type": "execute_result"
    }
   ],
   "source": [
    "a.dtype"
   ]
  },
  {
   "cell_type": "code",
   "execution_count": 13,
   "id": "7f9b17d9-1159-44b6-8c3c-813a64149d39",
   "metadata": {},
   "outputs": [
    {
     "data": {
      "text/plain": [
       "dtype('float64')"
      ]
     },
     "execution_count": 13,
     "metadata": {},
     "output_type": "execute_result"
    }
   ],
   "source": [
    "b = np.array ([1.2, 3.5, 5.1])\n",
    "b.dtype "
   ]
  },
  {
   "cell_type": "markdown",
   "id": "5acd3a16-2347-4d34-8228-15d2be0e5a38",
   "metadata": {},
   "source": [
    "Kesalahan yang sering terjadi dalam pembuatan array diantaranya adalah:"
   ]
  },
  {
   "cell_type": "code",
   "execution_count": null,
   "id": "edd18f7a-aa3a-4477-b592-e5c79f09f7e2",
   "metadata": {},
   "outputs": [],
   "source": [
    "a = np. array (1,2,3,4) # WRONG\n",
    "a = np. array ([1,2,3,4]) # RIGHT"
   ]
  },
  {
   "cell_type": "markdown",
   "id": "8b1e2d02-4e81-4c0f-b6ff-5b6a16823dab",
   "metadata": {},
   "source": [
    "array mengubah barisan dari sebuah barisan menjadi array dua dimensi, barisan dari barisan sebuah barisan menjadi array tiga dimensi, dan seterusnya."
   ]
  },
  {
   "cell_type": "code",
   "execution_count": 14,
   "id": "5b9d7afb-fbe2-4e9e-a6ec-4398797664e8",
   "metadata": {},
   "outputs": [
    {
     "data": {
      "text/plain": [
       "array([[1.5, 2. , 3. ],\n",
       "       [4. , 5. , 6. ]])"
      ]
     },
     "execution_count": 14,
     "metadata": {},
     "output_type": "execute_result"
    }
   ],
   "source": [
    "b = np.array([(1.5,2,3) , (4,5,6)])\n",
    "b"
   ]
  },
  {
   "cell_type": "markdown",
   "id": "181db450-7e46-479d-9d2b-c5f6f1398427",
   "metadata": {},
   "source": [
    "Jenis array juga dapat secara eksplisit ditentukan pada saat pembuatan:"
   ]
  },
  {
   "cell_type": "code",
   "execution_count": 15,
   "id": "938dd5c9-506d-432c-be36-9564d1cb4a3f",
   "metadata": {},
   "outputs": [
    {
     "data": {
      "text/plain": [
       "array([[1.+0.j, 2.+0.j],\n",
       "       [3.+0.j, 4.+0.j]])"
      ]
     },
     "execution_count": 15,
     "metadata": {},
     "output_type": "execute_result"
    }
   ],
   "source": [
    "c = np.array( [ [1,2] , [3,4] ], dtype = complex )\n",
    "c"
   ]
  },
  {
   "cell_type": "markdown",
   "id": "673933af-8574-4d12-83f4-f17583d2e0ac",
   "metadata": {},
   "source": [
    "Seringkali, elemen dari sebuah array pada awalnya tidak diketahui, namun ukurannya diketahui. Oleh karena itu, NumPy menawarkan beberapa fungsi untuk membuat array yang memuat nilai awal. Hal tersebut\n",
    "dapat meminimalkan pertumbuhan memori yang diperlukan array, sebagai operasi yang dianggap mahal.\n",
    "\n",
    "Fungsi zeros menciptakan sebuah array yang berisi angka nol, fungsi ones\n",
    "yang menciptakan array yang berisi angka satu, dan fungsi empty menciptakan array yang isinya acak dan bergantung pada keadaan memori.\n",
    "Secara default, dtype dari array yang dibuat adalah float64.\n",
    "\n"
   ]
  },
  {
   "cell_type": "code",
   "execution_count": 16,
   "id": "81de85a4-aa29-4b14-96e1-f33e55e07d92",
   "metadata": {},
   "outputs": [
    {
     "data": {
      "text/plain": [
       "array([[0., 0., 0., 0.],\n",
       "       [0., 0., 0., 0.],\n",
       "       [0., 0., 0., 0.]])"
      ]
     },
     "execution_count": 16,
     "metadata": {},
     "output_type": "execute_result"
    }
   ],
   "source": [
    "np.zeros ( (3,4) )"
   ]
  },
  {
   "cell_type": "code",
   "execution_count": 17,
   "id": "31bcb1a8-69dd-4fe9-95f0-5966285c0fa1",
   "metadata": {},
   "outputs": [
    {
     "data": {
      "text/plain": [
       "array([[[1, 1, 1, 1],\n",
       "        [1, 1, 1, 1],\n",
       "        [1, 1, 1, 1]],\n",
       "\n",
       "       [[1, 1, 1, 1],\n",
       "        [1, 1, 1, 1],\n",
       "        [1, 1, 1, 1]]], dtype=int16)"
      ]
     },
     "execution_count": 17,
     "metadata": {},
     "output_type": "execute_result"
    }
   ],
   "source": [
    "np.ones ( (2,3,4), dtype =np. int16 )"
   ]
  },
  {
   "cell_type": "code",
   "execution_count": 18,
   "id": "497613d0-eb6b-49a2-a588-48a9abbdba25",
   "metadata": {},
   "outputs": [
    {
     "data": {
      "text/plain": [
       "array([[1.5, 2. , 3. ],\n",
       "       [4. , 5. , 6. ]])"
      ]
     },
     "execution_count": 18,
     "metadata": {},
     "output_type": "execute_result"
    }
   ],
   "source": [
    "np.empty ( (2,3) )"
   ]
  },
  {
   "cell_type": "markdown",
   "id": "d015ec08-c3e2-4ba3-aca2-9fc1a905de5f",
   "metadata": {},
   "source": [
    "Untuk membuat barisan angka, NumPy menyediakan fungsi yang mirip dengan range yang outputnya berupa array dan bukan berupa list."
   ]
  },
  {
   "cell_type": "code",
   "execution_count": 19,
   "id": "e5300811-bba4-4a20-8652-99dc7322e9dc",
   "metadata": {},
   "outputs": [
    {
     "data": {
      "text/plain": [
       "array([10, 15, 20, 25])"
      ]
     },
     "execution_count": 19,
     "metadata": {},
     "output_type": "execute_result"
    }
   ],
   "source": [
    "np.arange(10,30,5)"
   ]
  },
  {
   "cell_type": "code",
   "execution_count": 20,
   "id": "6cdc9b11-3b4f-473b-8e42-ffd662b828dc",
   "metadata": {},
   "outputs": [
    {
     "data": {
      "text/plain": [
       "array([0. , 0.3, 0.6, 0.9, 1.2, 1.5, 1.8])"
      ]
     },
     "execution_count": 20,
     "metadata": {},
     "output_type": "execute_result"
    }
   ],
   "source": [
    "np.arange(0,2,0.3 )"
   ]
  },
  {
   "cell_type": "markdown",
   "id": "634263e0-02f9-4861-a83c-9737dafb143e",
   "metadata": {},
   "source": [
    "Jika arange digunakan dengan argumen floating point, biasanya sulit memprediksi jumlah elemen yang diperoleh, karena presisi floating point yang\n",
    "terbatas. Untuk itu, lebih baik menggunakan fungsi linspace yang dapat\n",
    "menerima masukan berapa jumlah elemen yang kita inginkan:"
   ]
  },
  {
   "cell_type": "code",
   "execution_count": 21,
   "id": "587201db-3083-4751-b4c1-03f13ff901c9",
   "metadata": {},
   "outputs": [
    {
     "data": {
      "text/plain": [
       "array([0.  , 0.25, 0.5 , 0.75, 1.  , 1.25, 1.5 , 1.75, 2.  ])"
      ]
     },
     "execution_count": 21,
     "metadata": {},
     "output_type": "execute_result"
    }
   ],
   "source": [
    "from numpy import pi\n",
    "np.linspace(0,2,9) \n"
   ]
  },
  {
   "cell_type": "code",
   "execution_count": 22,
   "id": "bc79e1d6-9f7a-400d-b4fc-e3b64aed5b36",
   "metadata": {},
   "outputs": [],
   "source": [
    "x = np.linspace(0,2*pi,100 ) \n",
    "f = np.sin(x)"
   ]
  },
  {
   "cell_type": "markdown",
   "id": "8ffbd673-2052-42ad-8c94-8c3df7ba18ea",
   "metadata": {},
   "source": [
    "5.3 Menampilkan Array\n",
    "\n",
    "Saat kita menampilkan array, NumPy menampilkannya dengan cara yang mirip dengan daftar bersarang, namun dengan tata letak berikut:\n",
    "\n",
    "• axis terakhir dicetak dari kiri ke kanan,\n",
    "\n",
    "• yang kedua sampai yang terakhir dicetak dari atas ke bawah,\n",
    "\n",
    "• Sisanya juga dicetak dari atas ke bawah, dengan masing-masing potongan dipisahkan oleh sebuah baris kosong.\n",
    "\n",
    "array satu dimensi dicetak sebagai baris, array dua dimensi sebagai matriks dan tridimensionals sebagai daftar matriks."
   ]
  },
  {
   "cell_type": "code",
   "execution_count": 23,
   "id": "cdb560c8-20f9-4244-836c-cfc888edff7f",
   "metadata": {},
   "outputs": [
    {
     "name": "stdout",
     "output_type": "stream",
     "text": [
      "[0 1 2 3 4 5]\n"
     ]
    }
   ],
   "source": [
    "a = np.arange(6) \n",
    "print(a)\n"
   ]
  },
  {
   "cell_type": "code",
   "execution_count": 24,
   "id": "7620a22a-fce7-4a60-a28a-e6465f83044c",
   "metadata": {},
   "outputs": [
    {
     "name": "stdout",
     "output_type": "stream",
     "text": [
      "[[ 0  1  2]\n",
      " [ 3  4  5]\n",
      " [ 6  7  8]\n",
      " [ 9 10 11]]\n"
     ]
    }
   ],
   "source": [
    "b = np.arange(12).reshape(4,3) \n",
    "print(b)"
   ]
  },
  {
   "cell_type": "code",
   "execution_count": 25,
   "id": "942e65fa-54cb-46a0-9dc7-5bcdcd4bd15f",
   "metadata": {},
   "outputs": [
    {
     "name": "stdout",
     "output_type": "stream",
     "text": [
      "[[[ 0  1  2  3]\n",
      "  [ 4  5  6  7]\n",
      "  [ 8  9 10 11]]\n",
      "\n",
      " [[12 13 14 15]\n",
      "  [16 17 18 19]\n",
      "  [20 21 22 23]]]\n"
     ]
    }
   ],
   "source": [
    "c = np.arange(24).reshape(2,3,4) \n",
    "print(c)"
   ]
  },
  {
   "cell_type": "markdown",
   "id": "2613463d-69b8-4ca3-a494-5e7a893f8a0b",
   "metadata": {},
   "source": [
    "Jika array terlalu besar untuk ditampilkan, NumPy secara otomatis memotong bagian tengah array dan hanya mencetak ujung-ujungnya:"
   ]
  },
  {
   "cell_type": "code",
   "execution_count": 26,
   "id": "0160d9b0-5e28-46b0-b7ab-a63a6a7b9cb7",
   "metadata": {},
   "outputs": [
    {
     "name": "stdout",
     "output_type": "stream",
     "text": [
      "[   0    1    2 ... 9997 9998 9999]\n"
     ]
    }
   ],
   "source": [
    "print(np.arange(10000))"
   ]
  },
  {
   "cell_type": "code",
   "execution_count": 27,
   "id": "5a588a62-cc59-47e6-ae40-46f02d44f833",
   "metadata": {},
   "outputs": [
    {
     "name": "stdout",
     "output_type": "stream",
     "text": [
      "[[   0    1    2 ...   97   98   99]\n",
      " [ 100  101  102 ...  197  198  199]\n",
      " [ 200  201  202 ...  297  298  299]\n",
      " ...\n",
      " [9700 9701 9702 ... 9797 9798 9799]\n",
      " [9800 9801 9802 ... 9897 9898 9899]\n",
      " [9900 9901 9902 ... 9997 9998 9999]]\n"
     ]
    }
   ],
   "source": [
    "print(np.arange(10000).reshape(100,100))"
   ]
  },
  {
   "cell_type": "markdown",
   "id": "52f125f6-335d-45af-aa05-4b9cae2e57cc",
   "metadata": {},
   "source": [
    "Untuk memaksa NumPy mencetak seluruh bagian array, kita dapat mengubah opsi print menggunakan set_printoptions."
   ]
  },
  {
   "cell_type": "code",
   "execution_count": null,
   "id": "37deadda-9868-4fa0-b6c4-4b9bfff3732c",
   "metadata": {},
   "outputs": [],
   "source": [
    " np.set_printoptions(threshold =’nan’)"
   ]
  }
 ],
 "metadata": {
  "kernelspec": {
   "display_name": "Python 3 (ipykernel)",
   "language": "python",
   "name": "python3"
  },
  "language_info": {
   "codemirror_mode": {
    "name": "ipython",
    "version": 3
   },
   "file_extension": ".py",
   "mimetype": "text/x-python",
   "name": "python",
   "nbconvert_exporter": "python",
   "pygments_lexer": "ipython3",
   "version": "3.10.2"
  }
 },
 "nbformat": 4,
 "nbformat_minor": 5
}
