{
 "cells": [
  {
   "cell_type": "markdown",
   "id": "5ed58428-f65b-45c8-8daa-4d8a64b88ec6",
   "metadata": {},
   "source": [
    "Soviana_200601110111_Kelas F_Catatan Pandas"
   ]
  },
  {
   "cell_type": "markdown",
   "id": "e4fe8a4e-edc5-4e70-b50a-1586767acbb7",
   "metadata": {},
   "source": [
    "# Pandas\n",
    "\n",
    "• Pandas adalah sebuah librari berlisensi BSD dan open source yang menyediakan struktur data dan analisis data yang mudah digunakan dan berkinerja tinggi untuk bahasa pemrograman Python.\n",
    "\n",
    "• Librari analisis data yang memiliki struktur data yang diperlukan untuk mengkonversi data mentah ke dalam bentuk/format tabel sehingga memudahkan untuk analisis."
   ]
  },
  {
   "cell_type": "markdown",
   "id": "b9e9500c-d8f8-455c-8b47-4d7ed0effe18",
   "metadata": {},
   "source": [
    "# Data Frame\n",
    "• Struktur data dasar pandas dinamakan DataFrame.\n",
    "\n",
    "• Koleksi kolom berurutan dengan bentuk sebuah tabel yang tampak seperti database dimana sebuah baris tunggal mewakili sebuah data tunggal dan kolom mewakili atribut tertentu.\n",
    "\n",
    "• Dengan adanya fitur dataframe memudahkan untuk membaca sebuah file dan menjadikannya table."
   ]
  },
  {
   "cell_type": "markdown",
   "id": "16211911-4605-4edb-9a3a-897503ceaabf",
   "metadata": {},
   "source": [
    "# Apa yang bisa dilakukan Pandas?\n",
    "• Read from and write to CSV, other file and databases.\n",
    "\n",
    "• Calculate statistics and answer questions about the data, likeWhat's the average, median, max, or min of each column?\n",
    "   \n",
    "   - Does column A correlate with column B?\n",
    "   \n",
    "   - What does the distribution of data in column C look like?\n",
    "     \n",
    "• Clean the data by doing things like removing missing values and filtering rows or columns by some criteria Visualize the data with help from Matplotlib. Plot bars, lines, histograms, bubbles, and more.\n",
    "\n",
    "• Kita juga dapat mengolah data dengan menggunakan operasi seperti join, distinct, group by, agregasi, dan teknik lainnya yang terdapat pada SQL."
   ]
  },
  {
   "cell_type": "markdown",
   "id": "42fe51d1-e36f-4330-8f9a-399ee0404f43",
   "metadata": {},
   "source": [
    "# Install dan Import\n",
    "• Install :\n",
    "   - conda install pandas\n",
    "     atau\n",
    "   - pip install pandas\n",
    "   \n",
    "• Jika akan menggunakan di dalam program, perlu dilakukan import:\n",
    "  - import pandas\n",
    "  - Atau biasanya untuk menyingkat penulisan saat diakses, maka diberi nama alias, misalnya \"pd\"\n",
    "  - import pandas as pd"
   ]
  },
  {
   "cell_type": "markdown",
   "id": "188d4de6-779f-43cf-b58c-4b4925787e99",
   "metadata": {},
   "source": [
    "# Komponen Utama Pandas\n",
    "•Series dan Dataframe\n",
    "  - Series adalah suatu kolom\n",
    "  - Dataframe adalah kumpulan series, dapat berupa tabel multidimensi\n",
    " "
   ]
  },
  {
   "cell_type": "markdown",
   "id": "d41c7c6c-4e09-4796-af3d-bed31c61ff47",
   "metadata": {},
   "source": [
    "# Pembuatan dataframe\n",
    "•Dataframe dapat terbentuk berasal dari hasil pembacaan data atau bisa juga dibuat sendiri (created from the scratch).\n",
    "\n",
    "•Banyak cara untuk membuat dataframe, cara paling sederhana adalah dengan menggunakan struktur data dict dalam python\n",
    "Contoh :\n",
    " - Misal akan dibuat dataframe penjualan apple dan orange.\n",
    " - Kolom berisi jenis buah, sedangkan setiap baris berisi besarnya penjualan.\n",
    " "
   ]
  },
  {
   "cell_type": "markdown",
   "id": "40218f31-9c9b-4278-9666-f4b6158ed51d",
   "metadata": {},
   "source": [
    "# Fungsi Lain\n",
    "•df.head() → pengambilan 5 data pertama\n",
    "\n",
    "•df.head(10)→ pengambilan 10 data pertama\n",
    "\n",
    "• df tail (8) → pengambilan 8 data terakhir\n",
    "\n",
    "• df.columns → menampilkan nama kolom\n",
    "\n",
    "• df[['nama', 'alamat']] → pilih kolom tertentu\n",
    "\n",
    "Mengacu ke data sebelumnya :\n",
    " •purchases[\"oranges\"].min()→ data terkecil\n",
    " \n",
    " •purchases[\"oranges\"].max) → data terbesar\n",
    " \n",
    " •purchases[\"oranges\"].mean() → rata-rata\n",
    " \n",
    " •purchases[\"oranges\"].sum()→ jumlah\n",
    " \n",
    " •purchases[\"oranges\"].count()→ cacah\n",
    " \n",
    " •purchases [purchases['oranges'] == 3] → filter data"
   ]
  },
  {
   "cell_type": "markdown",
   "id": "94831794-97a8-4d14-b3ae-5bad390a88bd",
   "metadata": {},
   "source": [
    "# Untuk lebih jelasnya akan dilakukan percobaan sebagai berikut:"
   ]
  },
  {
   "cell_type": "markdown",
   "id": "fa2a423d-9a0f-406c-88b5-7ae782db947e",
   "metadata": {},
   "source": [
    "Pandas merupakan salah satu package yang sangat membantu kita dalam pengolahan data dengan bahasa python. Hal ini karena pada menyediakan fitur dataframe. Dengan dataframe, kita bisa menjadikan file terbaca menjadi sebuah tabel. File yang didukung seperti .txt, .csv, .tsv dan lainnya."
   ]
  },
  {
   "cell_type": "markdown",
   "id": "3de04d4c-890d-4781-a3d9-2b0d94dcec31",
   "metadata": {},
   "source": [
    "# Mengimpor Pandas"
   ]
  },
  {
   "cell_type": "code",
   "execution_count": 1,
   "id": "016d1681-dd30-467f-8569-52d6b10c277e",
   "metadata": {},
   "outputs": [],
   "source": [
    "import pandas as pd"
   ]
  },
  {
   "cell_type": "markdown",
   "id": "0c4e7cba-4cc9-425b-aedd-3266bff223d6",
   "metadata": {},
   "source": [
    "# Import .txt"
   ]
  },
  {
   "cell_type": "markdown",
   "id": "c46de0db-18dc-4060-81ac-471f8134f24a",
   "metadata": {},
   "source": [
    "Siapkan dahulu file txt (dengan jarak antar data misal menggunakan tab) di folder yang sama dengan program."
   ]
  },
  {
   "cell_type": "code",
   "execution_count": 2,
   "id": "ebc36156-dd1a-4eee-b6e2-78b3ef05b38a",
   "metadata": {},
   "outputs": [
    {
     "name": "stdout",
     "output_type": "stream",
     "text": [
      "   A\\tB\n",
      "0  1\\t2\n",
      "1  4\\t3\n",
      "2  4\\t2\n"
     ]
    }
   ],
   "source": [
    "data1=pd.read_csv(\"data.txt\")\n",
    "print(data1)"
   ]
  },
  {
   "cell_type": "code",
   "execution_count": 3,
   "id": "a01c1beb-3a6f-440a-86eb-dc27abe6f1bc",
   "metadata": {},
   "outputs": [
    {
     "name": "stdout",
     "output_type": "stream",
     "text": [
      "   A  B\n",
      "0  1  2\n",
      "1  4  3\n",
      "2  4  2\n"
     ]
    }
   ],
   "source": [
    "data2=pd.read_csv(\"data.txt\", delimiter=\"\\t\")\n",
    "print(data2)"
   ]
  },
  {
   "cell_type": "markdown",
   "id": "4c896f38-fd71-4afd-8a5b-9e8f565a1580",
   "metadata": {},
   "source": [
    "# Import .csv"
   ]
  },
  {
   "cell_type": "markdown",
   "id": "320e83a0-e090-41ed-a238-0b1c951d7adf",
   "metadata": {},
   "source": [
    "Siapkan dahulu file csv di folder yang sama dengan program."
   ]
  },
  {
   "cell_type": "code",
   "execution_count": 4,
   "id": "eff2ba69-c312-4648-bfc8-dd296cedc419",
   "metadata": {},
   "outputs": [
    {
     "name": "stdout",
     "output_type": "stream",
     "text": [
      "   A\\tB\n",
      "0  1\\t2\n",
      "1  4\\t3\n",
      "2  4\\t2\n"
     ]
    }
   ],
   "source": [
    "data3=pd.read_csv(\"data.txt\")\n",
    "print(data3)"
   ]
  },
  {
   "cell_type": "code",
   "execution_count": 5,
   "id": "33c2a427-5057-4992-8c86-38b7df23437d",
   "metadata": {},
   "outputs": [
    {
     "name": "stdout",
     "output_type": "stream",
     "text": [
      "   A  B\n",
      "0  1  2\n",
      "1  4  3\n",
      "2  4  2\n"
     ]
    }
   ],
   "source": [
    "data4=pd.read_csv(\"data.txt\", delimiter=\"\\s+\")\n",
    "print(data4)"
   ]
  },
  {
   "cell_type": "markdown",
   "id": "9fcf0f75-ddda-42e8-b8db-5647e83b6f2c",
   "metadata": {},
   "source": [
    "# Import .xlsx"
   ]
  },
  {
   "cell_type": "markdown",
   "id": "3c42f260-f83c-4574-b85d-256fb2163f53",
   "metadata": {},
   "source": [
    "Siapkan dahulu file xlsx di folder yang sama dengan program."
   ]
  },
  {
   "cell_type": "code",
   "execution_count": null,
   "id": "8d840b0e-273b-4115-ae61-9c7e7af62d7a",
   "metadata": {},
   "outputs": [],
   "source": [
    "data5=pd.read_excel('data.xlsx')\n",
    "print(data5)"
   ]
  },
  {
   "cell_type": "markdown",
   "id": "e92dee40-018e-4ebf-aa7f-e86788561b87",
   "metadata": {},
   "source": [
    "# Import .xls"
   ]
  },
  {
   "cell_type": "markdown",
   "id": "68a2fa1c-aa6c-4f9d-b6d4-bc95c6d2fa77",
   "metadata": {},
   "source": [
    "Siapkan dahulu file xls di folder yang sama dengan program."
   ]
  },
  {
   "cell_type": "code",
   "execution_count": null,
   "id": "3b968ca6-00f6-4a5c-a1e1-605f1c606231",
   "metadata": {},
   "outputs": [],
   "source": [
    "data6=pd.read_excel('data.xls')\n",
    "print(data6)"
   ]
  },
  {
   "cell_type": "markdown",
   "id": "c181c649-d4a3-4121-81a0-6c72d31b5414",
   "metadata": {},
   "source": [
    "# Melihat Tabel"
   ]
  },
  {
   "cell_type": "code",
   "execution_count": 6,
   "id": "60faf7b8-4ff6-4cbf-9629-656385a6e589",
   "metadata": {},
   "outputs": [
    {
     "data": {
      "text/html": [
       "<div>\n",
       "<style scoped>\n",
       "    .dataframe tbody tr th:only-of-type {\n",
       "        vertical-align: middle;\n",
       "    }\n",
       "\n",
       "    .dataframe tbody tr th {\n",
       "        vertical-align: top;\n",
       "    }\n",
       "\n",
       "    .dataframe thead th {\n",
       "        text-align: right;\n",
       "    }\n",
       "</style>\n",
       "<table border=\"1\" class=\"dataframe\">\n",
       "  <thead>\n",
       "    <tr style=\"text-align: right;\">\n",
       "      <th></th>\n",
       "      <th>A</th>\n",
       "      <th>B</th>\n",
       "    </tr>\n",
       "  </thead>\n",
       "  <tbody>\n",
       "    <tr>\n",
       "      <th>0</th>\n",
       "      <td>1</td>\n",
       "      <td>2</td>\n",
       "    </tr>\n",
       "    <tr>\n",
       "      <th>1</th>\n",
       "      <td>4</td>\n",
       "      <td>3</td>\n",
       "    </tr>\n",
       "    <tr>\n",
       "      <th>2</th>\n",
       "      <td>4</td>\n",
       "      <td>2</td>\n",
       "    </tr>\n",
       "  </tbody>\n",
       "</table>\n",
       "</div>"
      ],
      "text/plain": [
       "   A  B\n",
       "0  1  2\n",
       "1  4  3\n",
       "2  4  2"
      ]
     },
     "execution_count": 6,
     "metadata": {},
     "output_type": "execute_result"
    }
   ],
   "source": [
    "#semua\n",
    "data2"
   ]
  },
  {
   "cell_type": "code",
   "execution_count": 7,
   "id": "2981ac43-b98b-4510-9fb5-ab5f5c331f36",
   "metadata": {},
   "outputs": [
    {
     "data": {
      "text/html": [
       "<div>\n",
       "<style scoped>\n",
       "    .dataframe tbody tr th:only-of-type {\n",
       "        vertical-align: middle;\n",
       "    }\n",
       "\n",
       "    .dataframe tbody tr th {\n",
       "        vertical-align: top;\n",
       "    }\n",
       "\n",
       "    .dataframe thead th {\n",
       "        text-align: right;\n",
       "    }\n",
       "</style>\n",
       "<table border=\"1\" class=\"dataframe\">\n",
       "  <thead>\n",
       "    <tr style=\"text-align: right;\">\n",
       "      <th></th>\n",
       "      <th>A</th>\n",
       "      <th>B</th>\n",
       "    </tr>\n",
       "  </thead>\n",
       "  <tbody>\n",
       "    <tr>\n",
       "      <th>0</th>\n",
       "      <td>1</td>\n",
       "      <td>2</td>\n",
       "    </tr>\n",
       "    <tr>\n",
       "      <th>1</th>\n",
       "      <td>4</td>\n",
       "      <td>3</td>\n",
       "    </tr>\n",
       "    <tr>\n",
       "      <th>2</th>\n",
       "      <td>4</td>\n",
       "      <td>2</td>\n",
       "    </tr>\n",
       "  </tbody>\n",
       "</table>\n",
       "</div>"
      ],
      "text/plain": [
       "   A  B\n",
       "0  1  2\n",
       "1  4  3\n",
       "2  4  2"
      ]
     },
     "execution_count": 7,
     "metadata": {},
     "output_type": "execute_result"
    }
   ],
   "source": [
    "#sebagian yang diatas (karena datanya sedikit maka yang tampil semua, silahkan coba dengan data yang lebih banyak lagi sendiri)\n",
    "data2.head()"
   ]
  },
  {
   "cell_type": "markdown",
   "id": "15d9d393-4322-41b8-bfea-115d0813d5b8",
   "metadata": {},
   "source": [
    "# Membuat Dataframe sendiri"
   ]
  },
  {
   "cell_type": "code",
   "execution_count": 8,
   "id": "a8547ff8-d7c1-4e0b-8876-74d1b0d7b8ca",
   "metadata": {},
   "outputs": [
    {
     "name": "stdout",
     "output_type": "stream",
     "text": [
      "Empty DataFrame\n",
      "Columns: []\n",
      "Index: []\n"
     ]
    }
   ],
   "source": [
    "df = pd.DataFrame()\n",
    "print(df)"
   ]
  },
  {
   "cell_type": "code",
   "execution_count": 9,
   "id": "bcaa5092-0800-4ffa-b5fe-bdffc4338e2c",
   "metadata": {},
   "outputs": [
    {
     "name": "stdout",
     "output_type": "stream",
     "text": [
      "   0\n",
      "0  1\n",
      "1  2\n",
      "2  3\n",
      "3  4\n",
      "4  5\n"
     ]
    }
   ],
   "source": [
    "data = [1,2,3,4,5]\n",
    "df1 = pd.DataFrame(data)\n",
    "print(df1)"
   ]
  },
  {
   "cell_type": "code",
   "execution_count": 10,
   "id": "db572996-d882-4573-bc5f-4dc8e226809b",
   "metadata": {},
   "outputs": [
    {
     "name": "stdout",
     "output_type": "stream",
     "text": [
      "       Nama  Usia\n",
      "0  Purwanto    32\n",
      "1   Purnomo    43\n",
      "2     Purwo    55\n"
     ]
    }
   ],
   "source": [
    "data = [['Purwanto',32],['Purnomo',43],['Purwo',55]]\n",
    "df2 = pd.DataFrame(data,columns=['Nama','Usia'])\n",
    "print(df2)"
   ]
  },
  {
   "cell_type": "markdown",
   "id": "4b7d21b6-246c-4ecf-a750-500ba0d970cd",
   "metadata": {},
   "source": [
    "Setelah pada pertemuan sebelumnya kita membahas bagaimana membuat dataframe, kali ini kita akan membahas lebih lanjut terkait apa saja yang dapat kita lakukan dengan dataframe. Tapi sebelumnya kita import pandas dahulu sebagai pd dan numpy sebagai np"
   ]
  },
  {
   "cell_type": "code",
   "execution_count": 11,
   "id": "004b28b8-8d03-4d12-a4c0-7607a4bbe01a",
   "metadata": {},
   "outputs": [],
   "source": [
    "import pandas as pd\n",
    "import numpy as np"
   ]
  },
  {
   "cell_type": "markdown",
   "id": "60b9df96-f662-41f3-94b4-8f08904a1320",
   "metadata": {},
   "source": [
    "# Memanggil data tertentu pada dataframe"
   ]
  },
  {
   "cell_type": "markdown",
   "id": "cd64329a-40cc-42c0-8f72-70d95b18f025",
   "metadata": {},
   "source": [
    "Misal kita punya dataframe sebagai berikut:"
   ]
  },
  {
   "cell_type": "code",
   "execution_count": 12,
   "id": "9cd280b8-e745-4636-9c50-dae94ba47f36",
   "metadata": {},
   "outputs": [
    {
     "name": "stdout",
     "output_type": "stream",
     "text": [
      "       Nama  Usia\n",
      "0  Purwanto    32\n",
      "1   Purnomo    43\n",
      "2     Purwo    55\n"
     ]
    }
   ],
   "source": [
    "data = [['Purwanto',32],['Purnomo',43],['Purwo',55]]\n",
    "df2 = pd.DataFrame(data,columns=['Nama','Usia'])\n",
    "print(df2)"
   ]
  },
  {
   "cell_type": "markdown",
   "id": "e2c30ccc-d2ea-48cf-94d2-a6a65ae51734",
   "metadata": {},
   "source": [
    "Dan ingin memanggil kolom tertentu"
   ]
  },
  {
   "cell_type": "code",
   "execution_count": 13,
   "id": "ebc11851-7380-4857-a7a9-0635f6bc0f37",
   "metadata": {},
   "outputs": [
    {
     "data": {
      "text/plain": [
       "0    Purwanto\n",
       "1     Purnomo\n",
       "2       Purwo\n",
       "Name: Nama, dtype: object"
      ]
     },
     "execution_count": 13,
     "metadata": {},
     "output_type": "execute_result"
    }
   ],
   "source": [
    "df2[\"Nama\"]"
   ]
  },
  {
   "cell_type": "code",
   "execution_count": 14,
   "id": "1ef03359-4ede-4548-919b-cafcfc247834",
   "metadata": {},
   "outputs": [
    {
     "data": {
      "text/plain": [
       "0    32\n",
       "1    43\n",
       "2    55\n",
       "Name: Usia, dtype: int64"
      ]
     },
     "execution_count": 14,
     "metadata": {},
     "output_type": "execute_result"
    }
   ],
   "source": [
    "df2[\"Usia\"]"
   ]
  },
  {
   "cell_type": "code",
   "execution_count": 15,
   "id": "81cb8f5d-c2db-478d-8699-83647c8a8563",
   "metadata": {},
   "outputs": [
    {
     "data": {
      "text/plain": [
       "'Purwanto'"
      ]
     },
     "execution_count": 15,
     "metadata": {},
     "output_type": "execute_result"
    }
   ],
   "source": [
    "df2[\"Nama\"][0]"
   ]
  },
  {
   "cell_type": "code",
   "execution_count": 16,
   "id": "7b1d1010-0ff6-4f7e-90ee-c5d0905e77fd",
   "metadata": {},
   "outputs": [
    {
     "data": {
      "text/plain": [
       "'Purwanto'"
      ]
     },
     "execution_count": 16,
     "metadata": {},
     "output_type": "execute_result"
    }
   ],
   "source": [
    "df2.iloc[0][0]"
   ]
  },
  {
   "cell_type": "code",
   "execution_count": 17,
   "id": "29f808bc-9f01-4cb2-9f18-02c70e9fdf69",
   "metadata": {},
   "outputs": [
    {
     "data": {
      "text/plain": [
       "'Purwanto'"
      ]
     },
     "execution_count": 17,
     "metadata": {},
     "output_type": "execute_result"
    }
   ],
   "source": [
    "df2.loc[0][\"Nama\"]"
   ]
  },
  {
   "cell_type": "code",
   "execution_count": 18,
   "id": "1c83b882-385c-4f81-8fa1-57af4bc174bb",
   "metadata": {},
   "outputs": [
    {
     "data": {
      "text/plain": [
       "'Purwanto'"
      ]
     },
     "execution_count": 18,
     "metadata": {},
     "output_type": "execute_result"
    }
   ],
   "source": [
    "df2.at[0,\"Nama\"]"
   ]
  },
  {
   "cell_type": "code",
   "execution_count": 19,
   "id": "c1726742-5225-4dd3-8a04-6bb745949550",
   "metadata": {},
   "outputs": [
    {
     "data": {
      "text/plain": [
       "'Purwanto'"
      ]
     },
     "execution_count": 19,
     "metadata": {},
     "output_type": "execute_result"
    }
   ],
   "source": [
    "df2.iat[0,0]"
   ]
  },
  {
   "cell_type": "code",
   "execution_count": 20,
   "id": "0e0669d4-9d1f-43a3-860c-92b8aa1c33ea",
   "metadata": {},
   "outputs": [
    {
     "data": {
      "text/plain": [
       "Nama    Purwanto\n",
       "Usia          32\n",
       "Name: 0, dtype: object"
      ]
     },
     "execution_count": 20,
     "metadata": {},
     "output_type": "execute_result"
    }
   ],
   "source": [
    "df2.iloc[0]"
   ]
  },
  {
   "cell_type": "code",
   "execution_count": 21,
   "id": "c19a2408-d306-4d80-ab14-40a8cc0bee88",
   "metadata": {},
   "outputs": [
    {
     "data": {
      "text/plain": [
       "0    Purwanto\n",
       "1     Purnomo\n",
       "2       Purwo\n",
       "Name: Nama, dtype: object"
      ]
     },
     "execution_count": 21,
     "metadata": {},
     "output_type": "execute_result"
    }
   ],
   "source": [
    "df2.loc[:,'Nama']"
   ]
  },
  {
   "cell_type": "markdown",
   "id": "ea98dbfd-2783-47f2-bf55-508d86500073",
   "metadata": {},
   "source": [
    "# Set Index"
   ]
  },
  {
   "cell_type": "code",
   "execution_count": 22,
   "id": "5974c133-df15-4289-9680-91130e38c26f",
   "metadata": {},
   "outputs": [
    {
     "data": {
      "text/html": [
       "<div>\n",
       "<style scoped>\n",
       "    .dataframe tbody tr th:only-of-type {\n",
       "        vertical-align: middle;\n",
       "    }\n",
       "\n",
       "    .dataframe tbody tr th {\n",
       "        vertical-align: top;\n",
       "    }\n",
       "\n",
       "    .dataframe thead th {\n",
       "        text-align: right;\n",
       "    }\n",
       "</style>\n",
       "<table border=\"1\" class=\"dataframe\">\n",
       "  <thead>\n",
       "    <tr style=\"text-align: right;\">\n",
       "      <th></th>\n",
       "      <th>Nama</th>\n",
       "      <th>Usia</th>\n",
       "    </tr>\n",
       "  </thead>\n",
       "  <tbody>\n",
       "    <tr>\n",
       "      <th>0</th>\n",
       "      <td>Purwanto</td>\n",
       "      <td>32</td>\n",
       "    </tr>\n",
       "    <tr>\n",
       "      <th>1</th>\n",
       "      <td>Purnomo</td>\n",
       "      <td>43</td>\n",
       "    </tr>\n",
       "    <tr>\n",
       "      <th>2</th>\n",
       "      <td>Purwo</td>\n",
       "      <td>55</td>\n",
       "    </tr>\n",
       "  </tbody>\n",
       "</table>\n",
       "</div>"
      ],
      "text/plain": [
       "       Nama  Usia\n",
       "0  Purwanto    32\n",
       "1   Purnomo    43\n",
       "2     Purwo    55"
      ]
     },
     "execution_count": 22,
     "metadata": {},
     "output_type": "execute_result"
    }
   ],
   "source": [
    "df3 = pd.DataFrame([['Purwanto',32],['Purnomo',43],['Purwo',55]],columns=['Nama','Usia'])\n",
    "df3"
   ]
  },
  {
   "cell_type": "code",
   "execution_count": 23,
   "id": "5732da2a-5cf9-4421-8cd5-dc6bc261d7a1",
   "metadata": {},
   "outputs": [
    {
     "data": {
      "text/html": [
       "<div>\n",
       "<style scoped>\n",
       "    .dataframe tbody tr th:only-of-type {\n",
       "        vertical-align: middle;\n",
       "    }\n",
       "\n",
       "    .dataframe tbody tr th {\n",
       "        vertical-align: top;\n",
       "    }\n",
       "\n",
       "    .dataframe thead th {\n",
       "        text-align: right;\n",
       "    }\n",
       "</style>\n",
       "<table border=\"1\" class=\"dataframe\">\n",
       "  <thead>\n",
       "    <tr style=\"text-align: right;\">\n",
       "      <th></th>\n",
       "      <th>Usia</th>\n",
       "    </tr>\n",
       "    <tr>\n",
       "      <th>Nama</th>\n",
       "      <th></th>\n",
       "    </tr>\n",
       "  </thead>\n",
       "  <tbody>\n",
       "    <tr>\n",
       "      <th>Purwanto</th>\n",
       "      <td>32</td>\n",
       "    </tr>\n",
       "    <tr>\n",
       "      <th>Purnomo</th>\n",
       "      <td>43</td>\n",
       "    </tr>\n",
       "    <tr>\n",
       "      <th>Purwo</th>\n",
       "      <td>55</td>\n",
       "    </tr>\n",
       "  </tbody>\n",
       "</table>\n",
       "</div>"
      ],
      "text/plain": [
       "          Usia\n",
       "Nama          \n",
       "Purwanto    32\n",
       "Purnomo     43\n",
       "Purwo       55"
      ]
     },
     "execution_count": 23,
     "metadata": {},
     "output_type": "execute_result"
    }
   ],
   "source": [
    "df3.set_index(\"Nama\")"
   ]
  },
  {
   "cell_type": "markdown",
   "id": "84981218-fa99-410c-95d7-f1bf15bf2a92",
   "metadata": {},
   "source": [
    "# Pemanggilan Baris"
   ]
  },
  {
   "cell_type": "code",
   "execution_count": 24,
   "id": "bf593f91-2b18-427d-8e30-4e82259eec7d",
   "metadata": {},
   "outputs": [
    {
     "data": {
      "text/html": [
       "<div>\n",
       "<style scoped>\n",
       "    .dataframe tbody tr th:only-of-type {\n",
       "        vertical-align: middle;\n",
       "    }\n",
       "\n",
       "    .dataframe tbody tr th {\n",
       "        vertical-align: top;\n",
       "    }\n",
       "\n",
       "    .dataframe thead th {\n",
       "        text-align: right;\n",
       "    }\n",
       "</style>\n",
       "<table border=\"1\" class=\"dataframe\">\n",
       "  <thead>\n",
       "    <tr style=\"text-align: right;\">\n",
       "      <th></th>\n",
       "      <th>48</th>\n",
       "      <th>49</th>\n",
       "      <th>50</th>\n",
       "    </tr>\n",
       "  </thead>\n",
       "  <tbody>\n",
       "    <tr>\n",
       "      <th>2</th>\n",
       "      <td>1</td>\n",
       "      <td>2</td>\n",
       "      <td>3</td>\n",
       "    </tr>\n",
       "    <tr>\n",
       "      <th>A</th>\n",
       "      <td>4</td>\n",
       "      <td>5</td>\n",
       "      <td>6</td>\n",
       "    </tr>\n",
       "    <tr>\n",
       "      <th>4</th>\n",
       "      <td>7</td>\n",
       "      <td>8</td>\n",
       "      <td>9</td>\n",
       "    </tr>\n",
       "  </tbody>\n",
       "</table>\n",
       "</div>"
      ],
      "text/plain": [
       "   48  49  50\n",
       "2   1   2   3\n",
       "A   4   5   6\n",
       "4   7   8   9"
      ]
     },
     "execution_count": 24,
     "metadata": {},
     "output_type": "execute_result"
    }
   ],
   "source": [
    "df4 = pd.DataFrame(data=np.array([[1, 2, 3], [4, 5, 6], [7, 8, 9]]), index= [2, 'A', 4], columns=[48, 49, 50])\n",
    "df4"
   ]
  },
  {
   "cell_type": "code",
   "execution_count": 25,
   "id": "2b6b4635-e6de-4852-8bda-d77440dcf97c",
   "metadata": {},
   "outputs": [
    {
     "data": {
      "text/plain": [
       "48    1\n",
       "49    2\n",
       "50    3\n",
       "Name: 2, dtype: int32"
      ]
     },
     "execution_count": 25,
     "metadata": {},
     "output_type": "execute_result"
    }
   ],
   "source": [
    "df4.loc[2]"
   ]
  },
  {
   "cell_type": "code",
   "execution_count": 26,
   "id": "f17b5fbd-38dc-4cba-99ce-c784723c22e8",
   "metadata": {},
   "outputs": [
    {
     "data": {
      "text/plain": [
       "48    7\n",
       "49    8\n",
       "50    9\n",
       "Name: 4, dtype: int32"
      ]
     },
     "execution_count": 26,
     "metadata": {},
     "output_type": "execute_result"
    }
   ],
   "source": [
    "df4.iloc[2]"
   ]
  },
  {
   "cell_type": "markdown",
   "id": "8891f02f-fb55-46a9-ae82-49411a0658e5",
   "metadata": {},
   "source": [
    "# Menambah Kolom"
   ]
  },
  {
   "cell_type": "code",
   "execution_count": 27,
   "id": "2b4355aa-d498-49b1-ba44-551720c1e41e",
   "metadata": {},
   "outputs": [
    {
     "data": {
      "text/html": [
       "<div>\n",
       "<style scoped>\n",
       "    .dataframe tbody tr th:only-of-type {\n",
       "        vertical-align: middle;\n",
       "    }\n",
       "\n",
       "    .dataframe tbody tr th {\n",
       "        vertical-align: top;\n",
       "    }\n",
       "\n",
       "    .dataframe thead th {\n",
       "        text-align: right;\n",
       "    }\n",
       "</style>\n",
       "<table border=\"1\" class=\"dataframe\">\n",
       "  <thead>\n",
       "    <tr style=\"text-align: right;\">\n",
       "      <th></th>\n",
       "      <th>Nama</th>\n",
       "      <th>Usia</th>\n",
       "      <th>Index</th>\n",
       "    </tr>\n",
       "  </thead>\n",
       "  <tbody>\n",
       "    <tr>\n",
       "      <th>0</th>\n",
       "      <td>Purwanto</td>\n",
       "      <td>32</td>\n",
       "      <td>0</td>\n",
       "    </tr>\n",
       "    <tr>\n",
       "      <th>1</th>\n",
       "      <td>Purnomo</td>\n",
       "      <td>43</td>\n",
       "      <td>1</td>\n",
       "    </tr>\n",
       "    <tr>\n",
       "      <th>2</th>\n",
       "      <td>Purwo</td>\n",
       "      <td>55</td>\n",
       "      <td>2</td>\n",
       "    </tr>\n",
       "  </tbody>\n",
       "</table>\n",
       "</div>"
      ],
      "text/plain": [
       "       Nama  Usia  Index\n",
       "0  Purwanto    32      0\n",
       "1   Purnomo    43      1\n",
       "2     Purwo    55      2"
      ]
     },
     "execution_count": 27,
     "metadata": {},
     "output_type": "execute_result"
    }
   ],
   "source": [
    "#Menambahkan index di kolom baru\n",
    "df5 = pd.DataFrame([['Purwanto',32],['Purnomo',43],['Purwo',55]],columns=['Nama','Usia'])\n",
    "df5[\"Index\"]=df5.index\n",
    "df5"
   ]
  },
  {
   "cell_type": "code",
   "execution_count": 28,
   "id": "6d8df533-e06d-494f-a1d0-eca83b659bdb",
   "metadata": {},
   "outputs": [
    {
     "data": {
      "text/html": [
       "<div>\n",
       "<style scoped>\n",
       "    .dataframe tbody tr th:only-of-type {\n",
       "        vertical-align: middle;\n",
       "    }\n",
       "\n",
       "    .dataframe tbody tr th {\n",
       "        vertical-align: top;\n",
       "    }\n",
       "\n",
       "    .dataframe thead th {\n",
       "        text-align: right;\n",
       "    }\n",
       "</style>\n",
       "<table border=\"1\" class=\"dataframe\">\n",
       "  <thead>\n",
       "    <tr style=\"text-align: right;\">\n",
       "      <th></th>\n",
       "      <th>Nama</th>\n",
       "      <th>Usia</th>\n",
       "      <th>Index</th>\n",
       "      <th>Gender</th>\n",
       "    </tr>\n",
       "  </thead>\n",
       "  <tbody>\n",
       "    <tr>\n",
       "      <th>0</th>\n",
       "      <td>Purwanto</td>\n",
       "      <td>32</td>\n",
       "      <td>0</td>\n",
       "      <td>L</td>\n",
       "    </tr>\n",
       "    <tr>\n",
       "      <th>1</th>\n",
       "      <td>Purnomo</td>\n",
       "      <td>43</td>\n",
       "      <td>1</td>\n",
       "      <td>L</td>\n",
       "    </tr>\n",
       "    <tr>\n",
       "      <th>2</th>\n",
       "      <td>Purwo</td>\n",
       "      <td>55</td>\n",
       "      <td>2</td>\n",
       "      <td>L</td>\n",
       "    </tr>\n",
       "  </tbody>\n",
       "</table>\n",
       "</div>"
      ],
      "text/plain": [
       "       Nama  Usia  Index Gender\n",
       "0  Purwanto    32      0      L\n",
       "1   Purnomo    43      1      L\n",
       "2     Purwo    55      2      L"
      ]
     },
     "execution_count": 28,
     "metadata": {},
     "output_type": "execute_result"
    }
   ],
   "source": [
    "#Menambahkan kolom dengan isian baru\n",
    "df5.loc[:, \"Gender\"] = pd.Series(['L','L','L'])\n",
    "df5"
   ]
  },
  {
   "cell_type": "markdown",
   "id": "ebbb58ed-310d-4a6b-ba9f-67f1182990a2",
   "metadata": {},
   "source": [
    "# Melihat ukuran dataframe"
   ]
  },
  {
   "cell_type": "code",
   "execution_count": 29,
   "id": "6573e834-e6cb-4c92-84bb-3e31a3eef93b",
   "metadata": {},
   "outputs": [
    {
     "data": {
      "text/plain": [
       "3"
      ]
     },
     "execution_count": 29,
     "metadata": {},
     "output_type": "execute_result"
    }
   ],
   "source": [
    "#ukuran baris paling panjang\n",
    "len(df2)"
   ]
  },
  {
   "cell_type": "code",
   "execution_count": 30,
   "id": "f5e37fa1-a864-4ba8-843b-92aba174bc91",
   "metadata": {},
   "outputs": [
    {
     "data": {
      "text/plain": [
       "3"
      ]
     },
     "execution_count": 30,
     "metadata": {},
     "output_type": "execute_result"
    }
   ],
   "source": [
    "#ukuran baris pada kolom tertentu\n",
    "len(df2[\"Nama\"])"
   ]
  },
  {
   "cell_type": "code",
   "execution_count": 31,
   "id": "3a83a786-7684-4a62-9622-dc75915e28c2",
   "metadata": {},
   "outputs": [
    {
     "name": "stdout",
     "output_type": "stream",
     "text": [
      "(3, 2)\n"
     ]
    }
   ],
   "source": [
    "#ukuran baris, ukuran kolom dataframe\n",
    "print(df2.shape)"
   ]
  },
  {
   "cell_type": "markdown",
   "id": "911814cc-58be-41c4-813f-18c2a3cf3094",
   "metadata": {},
   "source": [
    "# Menghapus"
   ]
  },
  {
   "cell_type": "code",
   "execution_count": 32,
   "id": "d1cb2d75-2c49-4bab-afb3-3285b297be40",
   "metadata": {},
   "outputs": [
    {
     "data": {
      "text/html": [
       "<div>\n",
       "<style scoped>\n",
       "    .dataframe tbody tr th:only-of-type {\n",
       "        vertical-align: middle;\n",
       "    }\n",
       "\n",
       "    .dataframe tbody tr th {\n",
       "        vertical-align: top;\n",
       "    }\n",
       "\n",
       "    .dataframe thead th {\n",
       "        text-align: right;\n",
       "    }\n",
       "</style>\n",
       "<table border=\"1\" class=\"dataframe\">\n",
       "  <thead>\n",
       "    <tr style=\"text-align: right;\">\n",
       "      <th></th>\n",
       "      <th>Nama</th>\n",
       "      <th>Usia</th>\n",
       "    </tr>\n",
       "  </thead>\n",
       "  <tbody>\n",
       "    <tr>\n",
       "      <th>0</th>\n",
       "      <td>Purwanto</td>\n",
       "      <td>32</td>\n",
       "    </tr>\n",
       "    <tr>\n",
       "      <th>1</th>\n",
       "      <td>Purnomo</td>\n",
       "      <td>43</td>\n",
       "    </tr>\n",
       "    <tr>\n",
       "      <th>2</th>\n",
       "      <td>Purwo</td>\n",
       "      <td>55</td>\n",
       "    </tr>\n",
       "  </tbody>\n",
       "</table>\n",
       "</div>"
      ],
      "text/plain": [
       "       Nama  Usia\n",
       "0  Purwanto    32\n",
       "1   Purnomo    43\n",
       "2     Purwo    55"
      ]
     },
     "execution_count": 32,
     "metadata": {},
     "output_type": "execute_result"
    }
   ],
   "source": [
    "df6 = pd.DataFrame([['Purwanto',32],['Purnomo',43],['Purwo',55]],columns=['Nama','Usia'])\n",
    "df6"
   ]
  },
  {
   "cell_type": "code",
   "execution_count": 33,
   "id": "ed77a11e-4646-48c6-9ce8-15c0d672a902",
   "metadata": {},
   "outputs": [
    {
     "data": {
      "text/html": [
       "<div>\n",
       "<style scoped>\n",
       "    .dataframe tbody tr th:only-of-type {\n",
       "        vertical-align: middle;\n",
       "    }\n",
       "\n",
       "    .dataframe tbody tr th {\n",
       "        vertical-align: top;\n",
       "    }\n",
       "\n",
       "    .dataframe thead th {\n",
       "        text-align: right;\n",
       "    }\n",
       "</style>\n",
       "<table border=\"1\" class=\"dataframe\">\n",
       "  <thead>\n",
       "    <tr style=\"text-align: right;\">\n",
       "      <th></th>\n",
       "      <th>Usia</th>\n",
       "    </tr>\n",
       "  </thead>\n",
       "  <tbody>\n",
       "    <tr>\n",
       "      <th>0</th>\n",
       "      <td>32</td>\n",
       "    </tr>\n",
       "    <tr>\n",
       "      <th>1</th>\n",
       "      <td>43</td>\n",
       "    </tr>\n",
       "    <tr>\n",
       "      <th>2</th>\n",
       "      <td>55</td>\n",
       "    </tr>\n",
       "  </tbody>\n",
       "</table>\n",
       "</div>"
      ],
      "text/plain": [
       "   Usia\n",
       "0    32\n",
       "1    43\n",
       "2    55"
      ]
     },
     "execution_count": 33,
     "metadata": {},
     "output_type": "execute_result"
    }
   ],
   "source": [
    "#menghapus kolom\n",
    "del df6['Nama']\n",
    "df6"
   ]
  },
  {
   "cell_type": "code",
   "execution_count": 34,
   "id": "e2d7bc8b-bfb6-4236-bffd-16aae3cc07e0",
   "metadata": {},
   "outputs": [
    {
     "data": {
      "text/html": [
       "<div>\n",
       "<style scoped>\n",
       "    .dataframe tbody tr th:only-of-type {\n",
       "        vertical-align: middle;\n",
       "    }\n",
       "\n",
       "    .dataframe tbody tr th {\n",
       "        vertical-align: top;\n",
       "    }\n",
       "\n",
       "    .dataframe thead th {\n",
       "        text-align: right;\n",
       "    }\n",
       "</style>\n",
       "<table border=\"1\" class=\"dataframe\">\n",
       "  <thead>\n",
       "    <tr style=\"text-align: right;\">\n",
       "      <th></th>\n",
       "      <th>Usia</th>\n",
       "    </tr>\n",
       "  </thead>\n",
       "  <tbody>\n",
       "    <tr>\n",
       "      <th>2</th>\n",
       "      <td>55</td>\n",
       "    </tr>\n",
       "  </tbody>\n",
       "</table>\n",
       "</div>"
      ],
      "text/plain": [
       "   Usia\n",
       "2    55"
      ]
     },
     "execution_count": 34,
     "metadata": {},
     "output_type": "execute_result"
    }
   ],
   "source": [
    "#Menghapus n baris di awal\n",
    "df6=df6[2:]\n",
    "df6"
   ]
  },
  {
   "cell_type": "code",
   "execution_count": 35,
   "id": "c87e6704-e391-4893-9552-a3d80fdbcaad",
   "metadata": {},
   "outputs": [
    {
     "data": {
      "text/html": [
       "<div>\n",
       "<style scoped>\n",
       "    .dataframe tbody tr th:only-of-type {\n",
       "        vertical-align: middle;\n",
       "    }\n",
       "\n",
       "    .dataframe tbody tr th {\n",
       "        vertical-align: top;\n",
       "    }\n",
       "\n",
       "    .dataframe thead th {\n",
       "        text-align: right;\n",
       "    }\n",
       "</style>\n",
       "<table border=\"1\" class=\"dataframe\">\n",
       "  <thead>\n",
       "    <tr style=\"text-align: right;\">\n",
       "      <th></th>\n",
       "      <th>Nama</th>\n",
       "      <th>Usia</th>\n",
       "    </tr>\n",
       "  </thead>\n",
       "  <tbody>\n",
       "    <tr>\n",
       "      <th>0</th>\n",
       "      <td>Purwanto</td>\n",
       "      <td>32</td>\n",
       "    </tr>\n",
       "    <tr>\n",
       "      <th>1</th>\n",
       "      <td>Purnomo</td>\n",
       "      <td>43</td>\n",
       "    </tr>\n",
       "    <tr>\n",
       "      <th>2</th>\n",
       "      <td>Purwo</td>\n",
       "      <td>55</td>\n",
       "    </tr>\n",
       "  </tbody>\n",
       "</table>\n",
       "</div>"
      ],
      "text/plain": [
       "       Nama  Usia\n",
       "0  Purwanto    32\n",
       "1   Purnomo    43\n",
       "2     Purwo    55"
      ]
     },
     "execution_count": 35,
     "metadata": {},
     "output_type": "execute_result"
    }
   ],
   "source": [
    "df6 = pd.DataFrame([['Purwanto',32],['Purnomo',43],['Purwo',55]],columns=['Nama','Usia'])\n",
    "df6"
   ]
  },
  {
   "cell_type": "code",
   "execution_count": 36,
   "id": "097f03f0-4aeb-4cec-a4b0-229e3e46c28a",
   "metadata": {},
   "outputs": [
    {
     "data": {
      "text/html": [
       "<div>\n",
       "<style scoped>\n",
       "    .dataframe tbody tr th:only-of-type {\n",
       "        vertical-align: middle;\n",
       "    }\n",
       "\n",
       "    .dataframe tbody tr th {\n",
       "        vertical-align: top;\n",
       "    }\n",
       "\n",
       "    .dataframe thead th {\n",
       "        text-align: right;\n",
       "    }\n",
       "</style>\n",
       "<table border=\"1\" class=\"dataframe\">\n",
       "  <thead>\n",
       "    <tr style=\"text-align: right;\">\n",
       "      <th></th>\n",
       "      <th>Nama</th>\n",
       "      <th>Usia</th>\n",
       "    </tr>\n",
       "  </thead>\n",
       "  <tbody>\n",
       "    <tr>\n",
       "      <th>1</th>\n",
       "      <td>Purnomo</td>\n",
       "      <td>43</td>\n",
       "    </tr>\n",
       "  </tbody>\n",
       "</table>\n",
       "</div>"
      ],
      "text/plain": [
       "      Nama  Usia\n",
       "1  Purnomo    43"
      ]
     },
     "execution_count": 36,
     "metadata": {},
     "output_type": "execute_result"
    }
   ],
   "source": [
    "#Menghapus baris tertentu\n",
    "df6=df6.drop(df6.index[[0,2]])\n",
    "df6"
   ]
  },
  {
   "cell_type": "markdown",
   "id": "53680c8d-4778-4978-b35c-42ebfae4781c",
   "metadata": {},
   "source": [
    "# Ekspor Dataframe"
   ]
  },
  {
   "cell_type": "code",
   "execution_count": null,
   "id": "75bef9c4-6a4f-41e8-b773-c6a757f50054",
   "metadata": {},
   "outputs": [],
   "source": [
    "#import pandas dan numpy\n",
    "import pandas as pd\n",
    "import numpy as np\n",
    "#Misal kita punya suatu dataframe\n",
    "data = [[1,32],[2,43],[4,55]]\n",
    "df = pd.DataFrame(data,columns=['Nama','Usia'])\n",
    "#Convert ke numpy array\n",
    "databaru = df.to_numpy()\n",
    "print(databaru)\n",
    "#Convert ke txt\n",
    "df.to_csv(\"dataexport.txt\")\n",
    "#Convert ke csv\n",
    "df.to_csv(\"dataexport.csv\")\n",
    "#Convert ke xlsx\n",
    "writer = pd.ExcelWriter('dataexport.xlsx')\n",
    "df.to_excel(writer, 'DataFrame')\n",
    "writer.save()"
   ]
  }
 ],
 "metadata": {
  "kernelspec": {
   "display_name": "Python 3 (ipykernel)",
   "language": "python",
   "name": "python3"
  },
  "language_info": {
   "codemirror_mode": {
    "name": "ipython",
    "version": 3
   },
   "file_extension": ".py",
   "mimetype": "text/x-python",
   "name": "python",
   "nbconvert_exporter": "python",
   "pygments_lexer": "ipython3",
   "version": "3.10.2"
  }
 },
 "nbformat": 4,
 "nbformat_minor": 5
}
