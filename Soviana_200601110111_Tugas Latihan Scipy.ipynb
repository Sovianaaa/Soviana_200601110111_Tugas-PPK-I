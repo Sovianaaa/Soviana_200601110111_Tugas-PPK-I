{
 "cells": [
  {
   "cell_type": "markdown",
   "id": "cce0e3d3-5587-4b6c-b1c5-0e71614cdd77",
   "metadata": {},
   "source": [
    "Soviana_200601110111_Tugas Latihan Scipy"
   ]
  },
  {
   "cell_type": "code",
   "execution_count": 1,
   "id": "5b43f947-6d80-4816-bc2f-cd574c7f19f7",
   "metadata": {},
   "outputs": [],
   "source": [
    "from sympy import *\n",
    "x, t, z, nu = symbols('x t z nu')"
   ]
  },
  {
   "cell_type": "code",
   "execution_count": 2,
   "id": "260f4e45-ab4a-4c10-87b1-29c8642d72e5",
   "metadata": {},
   "outputs": [
    {
     "data": {
      "text/latex": [
       "$\\displaystyle 4 x + 4$"
      ],
      "text/plain": [
       "4*x + 4"
      ]
     },
     "execution_count": 2,
     "metadata": {},
     "output_type": "execute_result"
    }
   ],
   "source": [
    "#Soal Nomor 1\n",
    "a = (x + 3)**2\n",
    "b = x**2 + 2*x + 5\n",
    "simplify(a - b)"
   ]
  },
  {
   "cell_type": "code",
   "execution_count": 3,
   "id": "a715c5a0-92de-4a76-bbbf-1f39a1dce565",
   "metadata": {},
   "outputs": [
    {
     "data": {
      "text/latex": [
       "$\\displaystyle - 5 \\sin{\\left(5 x \\right)}$"
      ],
      "text/plain": [
       "-5*sin(5*x)"
      ]
     },
     "execution_count": 3,
     "metadata": {},
     "output_type": "execute_result"
    }
   ],
   "source": [
    "#Soal Nomor 2\n",
    "diff(cos(5*x), x)"
   ]
  },
  {
   "cell_type": "code",
   "execution_count": 4,
   "id": "abb3ffbb-4b0b-4830-8aa7-1e0e20d29dab",
   "metadata": {},
   "outputs": [
    {
     "data": {
      "text/latex": [
       "$\\displaystyle \\int \\left(\\sin{\\left(4 x \\right)} + \\tan{\\left(3 x \\right)}\\right) e^{x}\\, dx$"
      ],
      "text/plain": [
       "Integral((sin(4*x) + tan(3*x))*exp(x), x)"
      ]
     },
     "execution_count": 4,
     "metadata": {},
     "output_type": "execute_result"
    }
   ],
   "source": [
    "#Soal Nomor 3\n",
    "integrate(exp(x)*tan(3*x) + exp(x)*sin(4*x), x)"
   ]
  },
  {
   "cell_type": "code",
   "execution_count": 5,
   "id": "c6f74d2e-20ba-420a-9866-b779686f74ad",
   "metadata": {},
   "outputs": [
    {
     "data": {
      "text/latex": [
       "$\\displaystyle \\frac{\\sqrt{2} \\sqrt{\\pi} C\\left(\\frac{7 \\sqrt{2}}{\\sqrt{\\pi}}\\right) \\Gamma\\left(\\frac{1}{4}\\right)}{8 \\Gamma\\left(\\frac{5}{4}\\right)}$"
      ],
      "text/plain": [
       "sqrt(2)*sqrt(pi)*fresnelc(7*sqrt(2)/sqrt(pi))*gamma(1/4)/(8*gamma(5/4))"
      ]
     },
     "execution_count": 5,
     "metadata": {},
     "output_type": "execute_result"
    }
   ],
   "source": [
    "#Soal Nomor 4\n",
    "integrate(cos(x**2), (x, 0, 7))"
   ]
  },
  {
   "cell_type": "code",
   "execution_count": 6,
   "id": "93c090bb-395a-4855-bf9e-d2d50e184518",
   "metadata": {},
   "outputs": [
    {
     "data": {
      "text/latex": [
       "$\\displaystyle \\frac{\\cos{\\left(2 x \\right)}}{x}$"
      ],
      "text/plain": [
       "cos(2*x)/x"
      ]
     },
     "execution_count": 6,
     "metadata": {},
     "output_type": "execute_result"
    }
   ],
   "source": [
    "#Soal Nomor 5\n",
    "limit(cos(2*x)/x, 3*x, 0)"
   ]
  },
  {
   "cell_type": "code",
   "execution_count": null,
   "id": "4b8f1042-3e63-49f6-8c7c-7728b15e6e7b",
   "metadata": {},
   "outputs": [],
   "source": []
  }
 ],
 "metadata": {
  "kernelspec": {
   "display_name": "Python 3 (ipykernel)",
   "language": "python",
   "name": "python3"
  },
  "language_info": {
   "codemirror_mode": {
    "name": "ipython",
    "version": 3
   },
   "file_extension": ".py",
   "mimetype": "text/x-python",
   "name": "python",
   "nbconvert_exporter": "python",
   "pygments_lexer": "ipython3",
   "version": "3.10.2"
  }
 },
 "nbformat": 4,
 "nbformat_minor": 5
}
