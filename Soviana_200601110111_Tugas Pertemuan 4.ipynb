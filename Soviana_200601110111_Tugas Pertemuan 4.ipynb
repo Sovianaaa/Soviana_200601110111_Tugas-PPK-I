{
 "cells": [
  {
   "cell_type": "markdown",
   "id": "fe387f58-3008-4f2c-a923-5538130c3e29",
   "metadata": {},
   "source": [
    "Soviana_200601110111_Kelas F"
   ]
  },
  {
   "cell_type": "markdown",
   "id": "fda9b68c-ac7f-4823-8923-d76d0318aad0",
   "metadata": {},
   "source": [
    "1. Buatlah program untuk menginputkan dua buah bilangan bulat, kemudian mencetak salah satu bilangan yang nilainya terbesar!\n"
   ]
  },
  {
   "cell_type": "code",
   "execution_count": 1,
   "id": "54623dc0-b7c4-415c-b72a-d5183c4d0fa5",
   "metadata": {},
   "outputs": [],
   "source": [
    "def main():\n",
    "    #membuat judul program\n",
    "    print(\"menentukan nilai terbesar dari dua buah bilangan bulat\")"
   ]
  },
  {
   "cell_type": "code",
   "execution_count": 2,
   "id": "710da673-9449-4bd2-9fc5-1e10b4507bef",
   "metadata": {},
   "outputs": [
    {
     "name": "stdin",
     "output_type": "stream",
     "text": [
      "masukkan bilangan bulat pertama:  9\n",
      "masukkan bilangan bulat kedua:  3\n"
     ]
    }
   ],
   "source": [
    "#menginputkan nilai bilangan bulat\n",
    "a = int(input(\"masukkan bilangan bulat pertama: \"))\n",
    "b = int(input(\"masukkan bilangan bulat kedua: \"))"
   ]
  },
  {
   "cell_type": "code",
   "execution_count": 3,
   "id": "93ddef8b-15fa-4e60-8349-a594f97d0a98",
   "metadata": {},
   "outputs": [
    {
     "name": "stdout",
     "output_type": "stream",
     "text": [
      "nilai terbesar adalah 9\n"
     ]
    }
   ],
   "source": [
    "#menentukan nilai bilangan bulat terbesar dengan if else \n",
    "if a > b:\n",
    "    maks = a\n",
    "else:\n",
    "    maks = b\n",
    "#mencetak nilai terbesar\n",
    "print(\"nilai terbesar adalah %d\" %maks)"
   ]
  },
  {
   "cell_type": "markdown",
   "id": "939dd671-8375-4873-a5f4-b60d4385cfc0",
   "metadata": {},
   "source": [
    "2. Pada akhir semester seorang dosen menghitung nilai akhir dari mahasiswa yang terdiri dari nilai uas, uts, kuis, dan tugas. Nilai akhir didapatkan dari 40% nilai uas, 30% nilai uts, 10% nilai kuis, dan 20% nilai tugas. Jika nilai akhir dari mahasiswa di bawah 65 maka mahasiswa tersebut akan mendapatkan remidi. Buatlah program untuk membantu mengetahui mahasiswa yang mendapatkan remidi berdasarkan nilai akhir yang didapatkannya!"
   ]
  },
  {
   "cell_type": "code",
   "execution_count": 4,
   "id": "4e78c445-e0bc-4e1d-a338-d431b858c70b",
   "metadata": {},
   "outputs": [],
   "source": [
    "def main():\n",
    "    #membuat judul program\n",
    "    print(\"menentukan nilai akhir mahasiswa\")"
   ]
  },
  {
   "cell_type": "code",
   "execution_count": 5,
   "id": "f35e58c9-1fe2-4248-a514-09b108f99473",
   "metadata": {},
   "outputs": [
    {
     "name": "stdin",
     "output_type": "stream",
     "text": [
      "masukkan nilai uas:  90\n",
      "masukkan nilai uts:  85\n",
      "masukkan nilai kuis:  90\n",
      "masukkan nilai tugas:  90\n"
     ]
    }
   ],
   "source": [
    "#menginputkan nilai mahasiswa\n",
    "a = int(input(\"masukkan nilai uas: \"))\n",
    "b = int(input(\"masukkan nilai uts: \"))\n",
    "c = int(input(\"masukkan nilai kuis: \"))\n",
    "d = int(input(\"masukkan nilai tugas: \"))"
   ]
  },
  {
   "cell_type": "code",
   "execution_count": 6,
   "id": "a1fffc5b-ab97-40f4-867e-a6b4c20a9dcb",
   "metadata": {},
   "outputs": [
    {
     "name": "stdout",
     "output_type": "stream",
     "text": [
      "mahasiswa tidak remidi\n"
     ]
    }
   ],
   "source": [
    "#menetukan nilai mahasiswa\n",
    "if a*0.4 + b*0.3 + c*0.1 + d*0.2 > 65 :\n",
    "    print(\"mahasiswa tidak remidi\")\n",
    "else :\n",
    "    print(\"mahasiswa remidi\")"
   ]
  },
  {
   "cell_type": "markdown",
   "id": "eeee071b-a41e-4f3c-88b0-c2d06dc86293",
   "metadata": {},
   "source": [
    "3. Buatlah program kalkulator sederhana menggunakan Python. User akan memasukkan dua buah bilangan riil dan satu buah operator aritmatika(+,-,*, atau /), kemudian program akan mengoperasikan dua bilangan tersebut dengan operator yang sesuai.  "
   ]
  },
  {
   "cell_type": "code",
   "execution_count": 7,
   "id": "333349bb-0518-4835-9e97-5939000dfcc7",
   "metadata": {},
   "outputs": [
    {
     "name": "stdout",
     "output_type": "stream",
     "text": [
      "=========================\n",
      "Operasi Kalkulator Sederhana\n",
      "  1. Jumlah \t [+]\n",
      "  2. Kurang \t [-]\n",
      "  3. Kali \t [*]\n",
      "  4. Bagi \t [/]\n",
      "=========================\n"
     ]
    },
    {
     "name": "stdin",
     "output_type": "stream",
     "text": [
      "Pilih operasi (1/2/3/4):  1\n",
      "Masukkan bilangan pertama:  4\n",
      "Masukkan bilangan kedua:  6\n"
     ]
    }
   ],
   "source": [
    "print('=' * 25)\n",
    "print('Operasi Kalkulator Sederhana')\n",
    "print('  1. Jumlah \\t [+]')\n",
    "print('  2. Kurang \\t [-]')\n",
    "print('  3. Kali \\t [*]')\n",
    "print('  4. Bagi \\t [/]')\n",
    "print('=' * 25)\n",
    "\n",
    "operasi = input('Pilih operasi (1/2/3/4): ')\n",
    "bilangan_1 = eval(input('Masukkan bilangan pertama: '))\n",
    "bilangan_2 = eval(input('Masukkan bilangan kedua: '))"
   ]
  },
  {
   "cell_type": "code",
   "execution_count": 8,
   "id": "d2f43adb-142e-454c-b7f0-3a563e0557eb",
   "metadata": {},
   "outputs": [
    {
     "name": "stdout",
     "output_type": "stream",
     "text": [
      "=========================\n",
      "User memilih penjumlahan\n"
     ]
    }
   ],
   "source": [
    "print('=' * 25)\n",
    "\n",
    "if operasi == '1':\n",
    "  print('User memilih penjumlahan')\n",
    "elif operasi == '2':\n",
    "  print('User memilih pengurangan')\n",
    "elif operasi == '3':\n",
    "  print('User memilih perkalian')\n",
    "elif operasi == '4':\n",
    "  print('User memilih pembagian')\n",
    "else:\n",
    "  print('Tidak valid')"
   ]
  },
  {
   "cell_type": "code",
   "execution_count": 9,
   "id": "f54cb4eb-d7d2-461e-8340-0d34fa660592",
   "metadata": {},
   "outputs": [
    {
     "name": "stdout",
     "output_type": "stream",
     "text": [
      "Hasil operasi dari 4 + 6 = 10\n"
     ]
    }
   ],
   "source": [
    "if operasi == '1':\n",
    "  hasil = bilangan_1 + bilangan_2\n",
    "  print(f'Hasil operasi dari {bilangan_1} + {bilangan_2} = {hasil}')\n",
    "elif operasi == '2':\n",
    "  hasil = bilangan_1 - bilangan_2\n",
    "  print(f'Hasil operasi dari {bilangan_1} - {bilangan_2} = {hasil}')\n",
    "elif operasi == '3':\n",
    "  hasil = bilangan_1 * bilangan_2\n",
    "  print(f'Hasil operasi dari {bilangan_1} * {bilangan_2} = {hasil}')\n",
    "elif operasi == '4':\n",
    "  hasil = bilangan_1 / bilangan_2\n",
    "  print(f'Hasil operasi dari {bilangan_1} / {bilangan_2} = {hasil}')\n",
    "else:\n",
    "  print('Tidak valid')"
   ]
  },
  {
   "cell_type": "code",
   "execution_count": null,
   "id": "3ffce8dc-eb4a-428f-9e72-4736234a5447",
   "metadata": {},
   "outputs": [],
   "source": []
  }
 ],
 "metadata": {
  "kernelspec": {
   "display_name": "Python 3 (ipykernel)",
   "language": "python",
   "name": "python3"
  },
  "language_info": {
   "codemirror_mode": {
    "name": "ipython",
    "version": 3
   },
   "file_extension": ".py",
   "mimetype": "text/x-python",
   "name": "python",
   "nbconvert_exporter": "python",
   "pygments_lexer": "ipython3",
   "version": "3.10.2"
  }
 },
 "nbformat": 4,
 "nbformat_minor": 5
}
