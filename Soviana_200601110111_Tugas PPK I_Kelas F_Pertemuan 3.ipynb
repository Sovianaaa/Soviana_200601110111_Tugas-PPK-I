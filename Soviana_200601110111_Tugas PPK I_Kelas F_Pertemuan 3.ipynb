{
 "cells": [
  {
   "cell_type": "code",
   "execution_count": 1,
   "id": "f3f5ecd9-dc5e-47ae-a552-a29d59498d97",
   "metadata": {},
   "outputs": [
    {
     "name": "stdout",
     "output_type": "stream",
     "text": [
      "Soviana_200601110111_PPK 1_Kelas\n"
     ]
    }
   ],
   "source": [
    "print(\"Soviana_200601110111_PPK 1_Kelas\")"
   ]
  },
  {
   "cell_type": "markdown",
   "id": "99db773a-0344-481d-8c16-d8e2b1d8eabd",
   "metadata": {},
   "source": [
    "3.1 Tipe List\n",
    "List merupakan objek yang bersifat mutable atau nilainya dapat diubah. Kita dapat menambah, mengubah, maupun menghapus elemen-elemen yang terdapat di dalam list. Objek list dibuat menggunakan tanda []. Setiap objek atau elemen yang terdapat di dalam list harus dibatasi menggunakan tanda koma,tapi tidak harus sejenis. Artinya, bisa saja list berisi beberapa objek yang berasal dari tipe berlainan, misalnya str, int, dan sebagainya.\n",
    "3.2 Tipe Dictionary\n",
    "Dictionary(kamus) atau sering juga disebut tipe mapping merupakan objek yang berisi daftar pasangan kunci dan nilai (key-value pair). Pada stuktur data list, elemen-elemen diindeks berdasarkan bilangan positif maupun negatif tergantung dari arah mana elemen-elemen tersebut akan diakses. Pada struktur dat dictionary, elemen-elemen akan diindeks berdasarkan kuncinya. Objek yang dijadkan sebagai kunci dapat berasal dari tipe apa saja, tapi pada umumnya berupa string, atau paling tidak berupa bilangan. Berbeda dengan list, dictionary dibuat menggunakan {}. Setiap pasangan kunci dan nilaia harus dipisahkan menggunakan tanda (:)"
   ]
  },
  {
   "cell_type": "code",
   "execution_count": 2,
   "id": "e3e5ca49-f2e9-45c4-b928-ccbf08cdb8db",
   "metadata": {},
   "outputs": [
    {
     "data": {
      "text/plain": [
       "[10, 8, 12, 6, 15]"
      ]
     },
     "execution_count": 2,
     "metadata": {},
     "output_type": "execute_result"
    }
   ],
   "source": [
    "list1=[100,200,300,400]\n",
    "list2=[1,'Pemrograman Komputer',12000.00]\n",
    "list=[10,8,12,6,15]\n",
    "list"
   ]
  },
  {
   "cell_type": "code",
   "execution_count": 3,
   "id": "211d8faa-eb7e-4a10-adf7-e024d13fd9f7",
   "metadata": {},
   "outputs": [
    {
     "data": {
      "text/plain": [
       "[10, 8, 12, 6, 15]"
      ]
     },
     "execution_count": 3,
     "metadata": {},
     "output_type": "execute_result"
    }
   ],
   "source": [
    "len(list)#Menghitung banyaknya elemen didalam list 5\n",
    "li=[10,8,12,6,15]\n",
    "li"
   ]
  },
  {
   "cell_type": "code",
   "execution_count": 4,
   "id": "6da143b4-c802-4cfa-bbc0-3a50e36adeee",
   "metadata": {},
   "outputs": [
    {
     "data": {
      "text/plain": [
       "(10, 8, 12, 6, 15)"
      ]
     },
     "execution_count": 4,
     "metadata": {},
     "output_type": "execute_result"
    }
   ],
   "source": [
    "li[0],li[1],li[2],li[3],li[4]"
   ]
  },
  {
   "cell_type": "code",
   "execution_count": 5,
   "id": "5d0c2f8a-1aa4-420d-a115-76029cd689b0",
   "metadata": {},
   "outputs": [
    {
     "data": {
      "text/plain": [
       "(10, 8, 12, 6, 15)"
      ]
     },
     "execution_count": 5,
     "metadata": {},
     "output_type": "execute_result"
    }
   ],
   "source": [
    "li[-5],li[-4],li[-3],li[-2],li[-1]"
   ]
  },
  {
   "cell_type": "code",
   "execution_count": 6,
   "id": "d24ccfc4-e9d7-4e14-8718-95dc2ea60ef2",
   "metadata": {},
   "outputs": [
    {
     "data": {
      "text/plain": [
       "[10, 8, 12, 6, 15, 100, 200, 300]"
      ]
     },
     "execution_count": 6,
     "metadata": {},
     "output_type": "execute_result"
    }
   ],
   "source": [
    "li.append(20)#menambahkan elemen dalam list\n",
    "li.append(25)\n",
    "li=[10,8,12,6,15]\n",
    "li.extend([100,200,300])#menambahkan list dalam sebuah list\n",
    "li"
   ]
  },
  {
   "cell_type": "code",
   "execution_count": 7,
   "id": "2821c218-3715-477a-a7e2-7a484268efc9",
   "metadata": {},
   "outputs": [
    {
     "data": {
      "text/plain": [
       "[99, 77, 12, 6, 15, 100, 200, 300]"
      ]
     },
     "execution_count": 7,
     "metadata": {},
     "output_type": "execute_result"
    }
   ],
   "source": [
    "li[0]=99\n",
    "li[1]=77\n",
    "li"
   ]
  },
  {
   "cell_type": "code",
   "execution_count": 8,
   "id": "0cd150a8-baee-4885-b8a6-6007d9b49e4a",
   "metadata": {},
   "outputs": [
    {
     "data": {
      "text/plain": [
       "[77, 12, 6, 100, 200]"
      ]
     },
     "execution_count": 8,
     "metadata": {},
     "output_type": "execute_result"
    }
   ],
   "source": [
    "li.remove(99)#menghapus elemen di dalam list\n",
    "li.remove(300)\n",
    "li.remove(15)\n",
    "li"
   ]
  },
  {
   "cell_type": "code",
   "execution_count": 9,
   "id": "870c01c3-b852-414e-8452-79d979b0095a",
   "metadata": {},
   "outputs": [
    {
     "data": {
      "text/plain": [
       "[]"
      ]
     },
     "execution_count": 9,
     "metadata": {},
     "output_type": "execute_result"
    }
   ],
   "source": [
    "li.clear()#Menghapus Semua elemen di dalam list\n",
    "li"
   ]
  },
  {
   "cell_type": "code",
   "execution_count": 10,
   "id": "33332684-2b28-45e1-86b3-60fb217cdfc1",
   "metadata": {},
   "outputs": [
    {
     "data": {
      "text/plain": [
       "{'A': 4, 'B': 3, 'C': 2, 'D': 1, 'E': 0}"
      ]
     },
     "execution_count": 10,
     "metadata": {},
     "output_type": "execute_result"
    }
   ],
   "source": [
    "na={'A':4,'B':3,'C':2,'D':1,'E':0}\n",
    "na"
   ]
  },
  {
   "cell_type": "code",
   "execution_count": 11,
   "id": "63daad8a-e8e2-44ca-874a-62eb8691a0db",
   "metadata": {},
   "outputs": [
    {
     "data": {
      "text/plain": [
       "dict_keys(['A', 'B', 'C', 'D', 'E'])"
      ]
     },
     "execution_count": 11,
     "metadata": {},
     "output_type": "execute_result"
    }
   ],
   "source": [
    "na.keys()#Menampilkan Kata Kunci(key) dalam Dictionary"
   ]
  },
  {
   "cell_type": "code",
   "execution_count": 12,
   "id": "5baf1e2f-bddb-438a-8e50-ae061205ce91",
   "metadata": {},
   "outputs": [
    {
     "data": {
      "text/plain": [
       "dict_values([4, 3, 2, 1, 0])"
      ]
     },
     "execution_count": 12,
     "metadata": {},
     "output_type": "execute_result"
    }
   ],
   "source": [
    "na.values()#Menampilkan Kata Value dalam Dictionary"
   ]
  },
  {
   "cell_type": "code",
   "execution_count": 13,
   "id": "b42885e7-5a29-4ae1-b704-ff145d715c1c",
   "metadata": {},
   "outputs": [
    {
     "data": {
      "text/plain": [
       "4"
      ]
     },
     "execution_count": 13,
     "metadata": {},
     "output_type": "execute_result"
    }
   ],
   "source": [
    "na['A']"
   ]
  },
  {
   "cell_type": "code",
   "execution_count": 14,
   "id": "7d44a14a-8ea8-4b6e-a33d-39a4f5258188",
   "metadata": {},
   "outputs": [
    {
     "data": {
      "text/plain": [
       "3"
      ]
     },
     "execution_count": 14,
     "metadata": {},
     "output_type": "execute_result"
    }
   ],
   "source": [
    "na['B']"
   ]
  },
  {
   "cell_type": "code",
   "execution_count": 15,
   "id": "8db87544-d217-491c-bff3-e484d9d1aa61",
   "metadata": {},
   "outputs": [
    {
     "data": {
      "text/plain": [
       "2"
      ]
     },
     "execution_count": 15,
     "metadata": {},
     "output_type": "execute_result"
    }
   ],
   "source": [
    "na['C']"
   ]
  },
  {
   "cell_type": "code",
   "execution_count": 16,
   "id": "5ee0cba8-66a9-4c1b-ba0d-1458d9d06af7",
   "metadata": {},
   "outputs": [
    {
     "data": {
      "text/plain": [
       "'kucing'"
      ]
     },
     "execution_count": 16,
     "metadata": {},
     "output_type": "execute_result"
    }
   ],
   "source": [
    "kamus={'mouse':'tikus','cat':'kucing'}\n",
    "kamus['cat']"
   ]
  },
  {
   "cell_type": "code",
   "execution_count": 17,
   "id": "23cdc40f-f9bf-4ca2-8688-93e392f5e8b0",
   "metadata": {},
   "outputs": [
    {
     "data": {
      "text/plain": [
       "dict_keys(['mouse', 'cat'])"
      ]
     },
     "execution_count": 17,
     "metadata": {},
     "output_type": "execute_result"
    }
   ],
   "source": [
    "kamus.keys()"
   ]
  },
  {
   "cell_type": "code",
   "execution_count": 18,
   "id": "27921023-3ce5-4703-aa20-6c21113ae27a",
   "metadata": {},
   "outputs": [
    {
     "data": {
      "text/plain": [
       "dict_values(['tikus', 'kucing'])"
      ]
     },
     "execution_count": 18,
     "metadata": {},
     "output_type": "execute_result"
    }
   ],
   "source": [
    "kamus.values()"
   ]
  },
  {
   "cell_type": "code",
   "execution_count": 19,
   "id": "a047a667-f5d9-41cc-a76e-4f09233d7249",
   "metadata": {},
   "outputs": [
    {
     "data": {
      "text/plain": [
       "10"
      ]
     },
     "execution_count": 19,
     "metadata": {},
     "output_type": "execute_result"
    }
   ],
   "source": [
    "t=(10,20,30)\n",
    "t[0]"
   ]
  },
  {
   "cell_type": "code",
   "execution_count": 20,
   "id": "08667ab9-6f15-4b03-b21a-c3abcb901ef9",
   "metadata": {},
   "outputs": [
    {
     "data": {
      "text/plain": [
       "20"
      ]
     },
     "execution_count": 20,
     "metadata": {},
     "output_type": "execute_result"
    }
   ],
   "source": [
    "t[1]"
   ]
  },
  {
   "cell_type": "code",
   "execution_count": 21,
   "id": "0b2ca1b1-88af-4a22-b893-01b3ecf94299",
   "metadata": {},
   "outputs": [
    {
     "data": {
      "text/plain": [
       "30"
      ]
     },
     "execution_count": 21,
     "metadata": {},
     "output_type": "execute_result"
    }
   ],
   "source": [
    "t[2]"
   ]
  },
  {
   "cell_type": "code",
   "execution_count": 22,
   "id": "c48c7b6d-6d8f-4c6a-bfb8-78bc9abfd201",
   "metadata": {},
   "outputs": [
    {
     "data": {
      "text/plain": [
       "(10, 20, 30)"
      ]
     },
     "execution_count": 22,
     "metadata": {},
     "output_type": "execute_result"
    }
   ],
   "source": [
    "t[-3],t[-2],t[-1]"
   ]
  },
  {
   "cell_type": "code",
   "execution_count": 23,
   "id": "5d832377-287d-4754-bb7e-dd68d948c66b",
   "metadata": {},
   "outputs": [
    {
     "data": {
      "text/plain": [
       "3"
      ]
     },
     "execution_count": 23,
     "metadata": {},
     "output_type": "execute_result"
    }
   ],
   "source": [
    "len(t)#Menghitung banyaknya elemen didalam Tuple 3"
   ]
  },
  {
   "cell_type": "markdown",
   "id": "dc90400c-2569-4d9c-82c2-2fe50489f5f6",
   "metadata": {},
   "source": [
    "3.3 Tipe Tuple\n",
    "Tuple adalah tipt koleksi yang mirip dengan list. Perbedaannya, tuple bersifat immutable atau elemen-elemennya tidak dapat diubah, baik nilainya maupun jumlah elemennya. Ini berarti bahwa kita tidak dapat menambah, mengubah, atau menghapus elemen di dalam tuple. Dengan kata lain, tuple merupakan koleksi yang bersifat konstan. Tuple dibuat menggunakan tanda ().\n",
    "3.4 Tipe Set\n",
    "set (himpunan) adalah tipe koleksi yang setiap elemennya bersifat unik. Dengan demikian, di dalam set tidak akan pernah ada duplikasi nilai elemen. Jika pada saat pembuatan set terdapat beberapa elemen yang nilainya sama, maka elemen-elemen tersebut hanya akan diambil satu, sisanya secara otomatis akan dibuang. Set dibuat menggunakan fungsi set() dengan parameter bisa berupa list, dictionary, tuple, maupun string."
   ]
  },
  {
   "cell_type": "code",
   "execution_count": 24,
   "id": "e9ec3139-9e20-48b4-ade6-78bf74d411dc",
   "metadata": {},
   "outputs": [
    {
     "data": {
      "text/plain": [
       "{10, 20, 30}"
      ]
     },
     "execution_count": 24,
     "metadata": {},
     "output_type": "execute_result"
    }
   ],
   "source": [
    "s=set([10,10,20,30,30,30])\n",
    "s"
   ]
  },
  {
   "cell_type": "code",
   "execution_count": 25,
   "id": "b671b463-dc40-43f4-b8b5-335c686dd167",
   "metadata": {},
   "outputs": [
    {
     "data": {
      "text/plain": [
       "3"
      ]
     },
     "execution_count": 25,
     "metadata": {},
     "output_type": "execute_result"
    }
   ],
   "source": [
    "len(s)"
   ]
  },
  {
   "cell_type": "code",
   "execution_count": 26,
   "id": "e6d93379-c771-42de-b767-32b17f08e392",
   "metadata": {},
   "outputs": [
    {
     "data": {
      "text/plain": [
       "{10, 20, 30, 60}"
      ]
     },
     "execution_count": 26,
     "metadata": {},
     "output_type": "execute_result"
    }
   ],
   "source": [
    "s.add(60)#Menambahkan anggota himpunan(set)\n",
    "s"
   ]
  },
  {
   "cell_type": "code",
   "execution_count": 27,
   "id": "7311ef0c-e6ae-4297-b776-191c7fc955ef",
   "metadata": {},
   "outputs": [
    {
     "data": {
      "text/plain": [
       "4"
      ]
     },
     "execution_count": 27,
     "metadata": {},
     "output_type": "execute_result"
    }
   ],
   "source": [
    "len(s)"
   ]
  },
  {
   "cell_type": "code",
   "execution_count": null,
   "id": "e19edf81-6851-4526-81cb-861fdf1f4c2e",
   "metadata": {},
   "outputs": [],
   "source": []
  }
 ],
 "metadata": {
  "kernelspec": {
   "display_name": "Python 3 (ipykernel)",
   "language": "python",
   "name": "python3"
  },
  "language_info": {
   "codemirror_mode": {
    "name": "ipython",
    "version": 3
   },
   "file_extension": ".py",
   "mimetype": "text/x-python",
   "name": "python",
   "nbconvert_exporter": "python",
   "pygments_lexer": "ipython3",
   "version": "3.10.2"
  }
 },
 "nbformat": 4,
 "nbformat_minor": 5
}
